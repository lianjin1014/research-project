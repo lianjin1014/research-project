{
 "cells": [
  {
   "cell_type": "markdown",
   "id": "4bbbe547",
   "metadata": {},
   "source": [
    "## 0. Prerequisites"
   ]
  },
  {
   "cell_type": "code",
   "execution_count": 1,
   "id": "97cf3fd0",
   "metadata": {},
   "outputs": [],
   "source": [
    "# packages\n",
    "import numpy as np\n",
    "import pandas as pd\n",
    "import matplotlib.pyplot as plt\n",
    "import scipy.io as scio\n",
    "from factor_analyzer import FactorAnalyzer\n",
    "from sklearn.neighbors import KNeighborsClassifier\n",
    "from sklearn import svm\n",
    "from sklearn.tree import DecisionTreeClassifier\n",
    "from sklearn.ensemble import RandomForestClassifier\n",
    "from sklearn.metrics import confusion_matrix, ConfusionMatrixDisplay\n",
    "from tqdm import tqdm\n",
    "from imblearn.over_sampling import SMOTE "
   ]
  },
  {
   "cell_type": "markdown",
   "id": "73e80aed",
   "metadata": {},
   "source": [
    "## 1. Expertise Classification"
   ]
  },
  {
   "cell_type": "code",
   "execution_count": 2,
   "id": "c9213ac3",
   "metadata": {},
   "outputs": [
    {
     "data": {
      "text/html": [
       "<div>\n",
       "<style scoped>\n",
       "    .dataframe tbody tr th:only-of-type {\n",
       "        vertical-align: middle;\n",
       "    }\n",
       "\n",
       "    .dataframe tbody tr th {\n",
       "        vertical-align: top;\n",
       "    }\n",
       "\n",
       "    .dataframe thead th {\n",
       "        text-align: right;\n",
       "    }\n",
       "</style>\n",
       "<table border=\"1\" class=\"dataframe\">\n",
       "  <thead>\n",
       "    <tr style=\"text-align: right;\">\n",
       "      <th></th>\n",
       "      <th>expertise</th>\n",
       "      <th>Average_peak_velocity_of_saccades</th>\n",
       "      <th>Minimum_peak_velocity_of_saccades</th>\n",
       "      <th>Maximum_peak_velocity_of_saccades</th>\n",
       "      <th>Standard_deviation_of_peak_velocity_of_saccades</th>\n",
       "      <th>Average_amplitude_of_saccades</th>\n",
       "      <th>Minimum_amplitude_of_saccades</th>\n",
       "      <th>Maximum_amplitude_of_saccades</th>\n",
       "      <th>Total_amplitude_of_saccades</th>\n",
       "      <th>Amplitude_of_first_saccade</th>\n",
       "      <th>...</th>\n",
       "      <th>maxGyroY</th>\n",
       "      <th>stdGyroY</th>\n",
       "      <th>avgGyroZ</th>\n",
       "      <th>minGyroZ</th>\n",
       "      <th>maxGyroZ</th>\n",
       "      <th>stdGyroZ</th>\n",
       "      <th>meanspDispersion</th>\n",
       "      <th>minspDispersion</th>\n",
       "      <th>maxspDispersion</th>\n",
       "      <th>stdspDispersion</th>\n",
       "    </tr>\n",
       "  </thead>\n",
       "  <tbody>\n",
       "    <tr>\n",
       "      <th>1</th>\n",
       "      <td>Expert</td>\n",
       "      <td>210.29</td>\n",
       "      <td>102.10</td>\n",
       "      <td>692.41</td>\n",
       "      <td>134.55</td>\n",
       "      <td>6.82</td>\n",
       "      <td>0.97</td>\n",
       "      <td>37.84</td>\n",
       "      <td>422.89</td>\n",
       "      <td>8.23</td>\n",
       "      <td>...</td>\n",
       "      <td>125.4468</td>\n",
       "      <td>25.627471</td>\n",
       "      <td>0.459666</td>\n",
       "      <td>-30.8379</td>\n",
       "      <td>56.1551</td>\n",
       "      <td>6.932179</td>\n",
       "      <td>928.867052</td>\n",
       "      <td>928.867052</td>\n",
       "      <td>928.867052</td>\n",
       "      <td>5.698189e-13</td>\n",
       "    </tr>\n",
       "    <tr>\n",
       "      <th>2</th>\n",
       "      <td>Expert</td>\n",
       "      <td>160.29</td>\n",
       "      <td>100.32</td>\n",
       "      <td>752.60</td>\n",
       "      <td>76.50</td>\n",
       "      <td>4.45</td>\n",
       "      <td>0.94</td>\n",
       "      <td>40.78</td>\n",
       "      <td>840.51</td>\n",
       "      <td>5.38</td>\n",
       "      <td>...</td>\n",
       "      <td>457.1159</td>\n",
       "      <td>39.537695</td>\n",
       "      <td>1.022927</td>\n",
       "      <td>-116.9386</td>\n",
       "      <td>162.3580</td>\n",
       "      <td>10.128204</td>\n",
       "      <td>1166.910451</td>\n",
       "      <td>1166.910451</td>\n",
       "      <td>1166.910451</td>\n",
       "      <td>7.278340e-12</td>\n",
       "    </tr>\n",
       "    <tr>\n",
       "      <th>3</th>\n",
       "      <td>R4</td>\n",
       "      <td>180.77</td>\n",
       "      <td>100.34</td>\n",
       "      <td>1338.03</td>\n",
       "      <td>193.66</td>\n",
       "      <td>3.64</td>\n",
       "      <td>0.43</td>\n",
       "      <td>27.91</td>\n",
       "      <td>272.86</td>\n",
       "      <td>3.31</td>\n",
       "      <td>...</td>\n",
       "      <td>320.7043</td>\n",
       "      <td>31.901832</td>\n",
       "      <td>0.424862</td>\n",
       "      <td>-111.5363</td>\n",
       "      <td>76.3964</td>\n",
       "      <td>7.780564</td>\n",
       "      <td>1344.464577</td>\n",
       "      <td>1344.464577</td>\n",
       "      <td>1344.464577</td>\n",
       "      <td>3.184287e-12</td>\n",
       "    </tr>\n",
       "    <tr>\n",
       "      <th>4</th>\n",
       "      <td>R4</td>\n",
       "      <td>194.28</td>\n",
       "      <td>100.28</td>\n",
       "      <td>854.48</td>\n",
       "      <td>97.56</td>\n",
       "      <td>4.44</td>\n",
       "      <td>0.50</td>\n",
       "      <td>24.02</td>\n",
       "      <td>2321.52</td>\n",
       "      <td>9.29</td>\n",
       "      <td>...</td>\n",
       "      <td>290.2483</td>\n",
       "      <td>15.694983</td>\n",
       "      <td>0.788296</td>\n",
       "      <td>-55.8373</td>\n",
       "      <td>162.0548</td>\n",
       "      <td>7.150270</td>\n",
       "      <td>1185.270433</td>\n",
       "      <td>1185.270433</td>\n",
       "      <td>1185.270433</td>\n",
       "      <td>5.913833e-12</td>\n",
       "    </tr>\n",
       "    <tr>\n",
       "      <th>5</th>\n",
       "      <td>R4</td>\n",
       "      <td>175.94</td>\n",
       "      <td>100.04</td>\n",
       "      <td>552.00</td>\n",
       "      <td>77.87</td>\n",
       "      <td>5.65</td>\n",
       "      <td>0.58</td>\n",
       "      <td>31.71</td>\n",
       "      <td>2120.59</td>\n",
       "      <td>5.33</td>\n",
       "      <td>...</td>\n",
       "      <td>314.7758</td>\n",
       "      <td>15.990401</td>\n",
       "      <td>0.707670</td>\n",
       "      <td>-73.5093</td>\n",
       "      <td>156.8781</td>\n",
       "      <td>5.681897</td>\n",
       "      <td>1475.423329</td>\n",
       "      <td>1475.423329</td>\n",
       "      <td>1475.423329</td>\n",
       "      <td>1.592093e-12</td>\n",
       "    </tr>\n",
       "    <tr>\n",
       "      <th>6</th>\n",
       "      <td>R3</td>\n",
       "      <td>193.52</td>\n",
       "      <td>100.34</td>\n",
       "      <td>788.64</td>\n",
       "      <td>106.37</td>\n",
       "      <td>6.19</td>\n",
       "      <td>0.92</td>\n",
       "      <td>35.87</td>\n",
       "      <td>3547.18</td>\n",
       "      <td>4.86</td>\n",
       "      <td>...</td>\n",
       "      <td>361.3256</td>\n",
       "      <td>19.562063</td>\n",
       "      <td>0.598923</td>\n",
       "      <td>-72.9051</td>\n",
       "      <td>137.1492</td>\n",
       "      <td>5.906137</td>\n",
       "      <td>1120.100442</td>\n",
       "      <td>1120.100442</td>\n",
       "      <td>1120.100442</td>\n",
       "      <td>9.097333e-12</td>\n",
       "    </tr>\n",
       "    <tr>\n",
       "      <th>7</th>\n",
       "      <td>R4</td>\n",
       "      <td>181.29</td>\n",
       "      <td>101.59</td>\n",
       "      <td>866.35</td>\n",
       "      <td>121.95</td>\n",
       "      <td>4.66</td>\n",
       "      <td>0.24</td>\n",
       "      <td>21.57</td>\n",
       "      <td>363.62</td>\n",
       "      <td>17.22</td>\n",
       "      <td>...</td>\n",
       "      <td>355.3515</td>\n",
       "      <td>22.953477</td>\n",
       "      <td>0.595141</td>\n",
       "      <td>-43.1609</td>\n",
       "      <td>33.4778</td>\n",
       "      <td>3.970143</td>\n",
       "      <td>1050.944813</td>\n",
       "      <td>1050.944813</td>\n",
       "      <td>1050.944813</td>\n",
       "      <td>4.553391e-13</td>\n",
       "    </tr>\n",
       "    <tr>\n",
       "      <th>8</th>\n",
       "      <td>R4</td>\n",
       "      <td>158.10</td>\n",
       "      <td>100.89</td>\n",
       "      <td>1279.52</td>\n",
       "      <td>117.54</td>\n",
       "      <td>3.81</td>\n",
       "      <td>0.26</td>\n",
       "      <td>34.74</td>\n",
       "      <td>525.13</td>\n",
       "      <td>3.81</td>\n",
       "      <td>...</td>\n",
       "      <td>199.0128</td>\n",
       "      <td>18.378910</td>\n",
       "      <td>0.741389</td>\n",
       "      <td>-48.3252</td>\n",
       "      <td>60.1744</td>\n",
       "      <td>5.393321</td>\n",
       "      <td>1133.442544</td>\n",
       "      <td>1133.442544</td>\n",
       "      <td>1133.442544</td>\n",
       "      <td>2.047981e-12</td>\n",
       "    </tr>\n",
       "    <tr>\n",
       "      <th>9</th>\n",
       "      <td>Expert</td>\n",
       "      <td>216.26</td>\n",
       "      <td>100.43</td>\n",
       "      <td>618.63</td>\n",
       "      <td>140.05</td>\n",
       "      <td>6.45</td>\n",
       "      <td>0.74</td>\n",
       "      <td>27.13</td>\n",
       "      <td>393.58</td>\n",
       "      <td>20.65</td>\n",
       "      <td>...</td>\n",
       "      <td>184.6567</td>\n",
       "      <td>22.306093</td>\n",
       "      <td>0.399799</td>\n",
       "      <td>-62.1250</td>\n",
       "      <td>53.1646</td>\n",
       "      <td>8.088887</td>\n",
       "      <td>1142.635550</td>\n",
       "      <td>1142.635550</td>\n",
       "      <td>1142.635550</td>\n",
       "      <td>2.277287e-12</td>\n",
       "    </tr>\n",
       "    <tr>\n",
       "      <th>10</th>\n",
       "      <td>R3</td>\n",
       "      <td>221.07</td>\n",
       "      <td>100.17</td>\n",
       "      <td>791.02</td>\n",
       "      <td>133.30</td>\n",
       "      <td>7.86</td>\n",
       "      <td>0.64</td>\n",
       "      <td>46.62</td>\n",
       "      <td>3276.90</td>\n",
       "      <td>8.12</td>\n",
       "      <td>...</td>\n",
       "      <td>420.2697</td>\n",
       "      <td>16.063098</td>\n",
       "      <td>0.551582</td>\n",
       "      <td>-201.3528</td>\n",
       "      <td>149.4042</td>\n",
       "      <td>6.884040</td>\n",
       "      <td>1413.430225</td>\n",
       "      <td>1413.430225</td>\n",
       "      <td>1413.430225</td>\n",
       "      <td>8.415643e-12</td>\n",
       "    </tr>\n",
       "    <tr>\n",
       "      <th>11</th>\n",
       "      <td>Expert</td>\n",
       "      <td>171.70</td>\n",
       "      <td>100.34</td>\n",
       "      <td>417.12</td>\n",
       "      <td>84.84</td>\n",
       "      <td>6.74</td>\n",
       "      <td>0.46</td>\n",
       "      <td>34.20</td>\n",
       "      <td>687.05</td>\n",
       "      <td>22.95</td>\n",
       "      <td>...</td>\n",
       "      <td>285.2599</td>\n",
       "      <td>16.401745</td>\n",
       "      <td>0.718196</td>\n",
       "      <td>-113.3078</td>\n",
       "      <td>70.2423</td>\n",
       "      <td>6.668147</td>\n",
       "      <td>928.562330</td>\n",
       "      <td>928.562330</td>\n",
       "      <td>928.562330</td>\n",
       "      <td>1.137283e-13</td>\n",
       "    </tr>\n",
       "    <tr>\n",
       "      <th>12</th>\n",
       "      <td>R3</td>\n",
       "      <td>168.51</td>\n",
       "      <td>100.26</td>\n",
       "      <td>635.84</td>\n",
       "      <td>104.25</td>\n",
       "      <td>5.33</td>\n",
       "      <td>0.66</td>\n",
       "      <td>30.65</td>\n",
       "      <td>633.91</td>\n",
       "      <td>4.94</td>\n",
       "      <td>...</td>\n",
       "      <td>137.6061</td>\n",
       "      <td>7.880036</td>\n",
       "      <td>0.580427</td>\n",
       "      <td>-31.7879</td>\n",
       "      <td>72.6224</td>\n",
       "      <td>4.000972</td>\n",
       "      <td>907.868383</td>\n",
       "      <td>907.868383</td>\n",
       "      <td>907.868383</td>\n",
       "      <td>2.389114e-12</td>\n",
       "    </tr>\n",
       "    <tr>\n",
       "      <th>13</th>\n",
       "      <td>R3</td>\n",
       "      <td>178.59</td>\n",
       "      <td>100.30</td>\n",
       "      <td>768.55</td>\n",
       "      <td>106.38</td>\n",
       "      <td>4.18</td>\n",
       "      <td>0.52</td>\n",
       "      <td>27.03</td>\n",
       "      <td>910.75</td>\n",
       "      <td>4.45</td>\n",
       "      <td>...</td>\n",
       "      <td>363.6996</td>\n",
       "      <td>16.823136</td>\n",
       "      <td>0.799973</td>\n",
       "      <td>-45.6080</td>\n",
       "      <td>75.9791</td>\n",
       "      <td>4.088656</td>\n",
       "      <td>1056.551466</td>\n",
       "      <td>1056.551466</td>\n",
       "      <td>1056.551466</td>\n",
       "      <td>2.274784e-12</td>\n",
       "    </tr>\n",
       "    <tr>\n",
       "      <th>14</th>\n",
       "      <td>R3</td>\n",
       "      <td>199.82</td>\n",
       "      <td>100.00</td>\n",
       "      <td>791.26</td>\n",
       "      <td>136.93</td>\n",
       "      <td>6.54</td>\n",
       "      <td>0.44</td>\n",
       "      <td>40.87</td>\n",
       "      <td>1412.29</td>\n",
       "      <td>4.07</td>\n",
       "      <td>...</td>\n",
       "      <td>233.2473</td>\n",
       "      <td>12.814517</td>\n",
       "      <td>0.726397</td>\n",
       "      <td>-48.9916</td>\n",
       "      <td>54.3964</td>\n",
       "      <td>4.197690</td>\n",
       "      <td>1498.423505</td>\n",
       "      <td>1498.423505</td>\n",
       "      <td>1498.423505</td>\n",
       "      <td>7.505832e-12</td>\n",
       "    </tr>\n",
       "    <tr>\n",
       "      <th>15</th>\n",
       "      <td>Expert</td>\n",
       "      <td>133.84</td>\n",
       "      <td>101.33</td>\n",
       "      <td>190.38</td>\n",
       "      <td>30.34</td>\n",
       "      <td>3.29</td>\n",
       "      <td>1.19</td>\n",
       "      <td>7.33</td>\n",
       "      <td>62.58</td>\n",
       "      <td>4.35</td>\n",
       "      <td>...</td>\n",
       "      <td>271.6395</td>\n",
       "      <td>18.404759</td>\n",
       "      <td>0.265203</td>\n",
       "      <td>-41.3102</td>\n",
       "      <td>39.4271</td>\n",
       "      <td>3.840442</td>\n",
       "      <td>1013.152012</td>\n",
       "      <td>1013.152012</td>\n",
       "      <td>1013.152012</td>\n",
       "      <td>1.137744e-12</td>\n",
       "    </tr>\n",
       "  </tbody>\n",
       "</table>\n",
       "<p>15 rows × 39 columns</p>\n",
       "</div>"
      ],
      "text/plain": [
       "   expertise  Average_peak_velocity_of_saccades  \\\n",
       "1     Expert                             210.29   \n",
       "2     Expert                             160.29   \n",
       "3         R4                             180.77   \n",
       "4         R4                             194.28   \n",
       "5         R4                             175.94   \n",
       "6         R3                             193.52   \n",
       "7         R4                             181.29   \n",
       "8         R4                             158.10   \n",
       "9     Expert                             216.26   \n",
       "10        R3                             221.07   \n",
       "11    Expert                             171.70   \n",
       "12        R3                             168.51   \n",
       "13        R3                             178.59   \n",
       "14        R3                             199.82   \n",
       "15    Expert                             133.84   \n",
       "\n",
       "    Minimum_peak_velocity_of_saccades  Maximum_peak_velocity_of_saccades  \\\n",
       "1                              102.10                             692.41   \n",
       "2                              100.32                             752.60   \n",
       "3                              100.34                            1338.03   \n",
       "4                              100.28                             854.48   \n",
       "5                              100.04                             552.00   \n",
       "6                              100.34                             788.64   \n",
       "7                              101.59                             866.35   \n",
       "8                              100.89                            1279.52   \n",
       "9                              100.43                             618.63   \n",
       "10                             100.17                             791.02   \n",
       "11                             100.34                             417.12   \n",
       "12                             100.26                             635.84   \n",
       "13                             100.30                             768.55   \n",
       "14                             100.00                             791.26   \n",
       "15                             101.33                             190.38   \n",
       "\n",
       "    Standard_deviation_of_peak_velocity_of_saccades  \\\n",
       "1                                            134.55   \n",
       "2                                             76.50   \n",
       "3                                            193.66   \n",
       "4                                             97.56   \n",
       "5                                             77.87   \n",
       "6                                            106.37   \n",
       "7                                            121.95   \n",
       "8                                            117.54   \n",
       "9                                            140.05   \n",
       "10                                           133.30   \n",
       "11                                            84.84   \n",
       "12                                           104.25   \n",
       "13                                           106.38   \n",
       "14                                           136.93   \n",
       "15                                            30.34   \n",
       "\n",
       "    Average_amplitude_of_saccades  Minimum_amplitude_of_saccades  \\\n",
       "1                            6.82                           0.97   \n",
       "2                            4.45                           0.94   \n",
       "3                            3.64                           0.43   \n",
       "4                            4.44                           0.50   \n",
       "5                            5.65                           0.58   \n",
       "6                            6.19                           0.92   \n",
       "7                            4.66                           0.24   \n",
       "8                            3.81                           0.26   \n",
       "9                            6.45                           0.74   \n",
       "10                           7.86                           0.64   \n",
       "11                           6.74                           0.46   \n",
       "12                           5.33                           0.66   \n",
       "13                           4.18                           0.52   \n",
       "14                           6.54                           0.44   \n",
       "15                           3.29                           1.19   \n",
       "\n",
       "    Maximum_amplitude_of_saccades  Total_amplitude_of_saccades  \\\n",
       "1                           37.84                       422.89   \n",
       "2                           40.78                       840.51   \n",
       "3                           27.91                       272.86   \n",
       "4                           24.02                      2321.52   \n",
       "5                           31.71                      2120.59   \n",
       "6                           35.87                      3547.18   \n",
       "7                           21.57                       363.62   \n",
       "8                           34.74                       525.13   \n",
       "9                           27.13                       393.58   \n",
       "10                          46.62                      3276.90   \n",
       "11                          34.20                       687.05   \n",
       "12                          30.65                       633.91   \n",
       "13                          27.03                       910.75   \n",
       "14                          40.87                      1412.29   \n",
       "15                           7.33                        62.58   \n",
       "\n",
       "    Amplitude_of_first_saccade  ...  maxGyroY   stdGyroY  avgGyroZ  minGyroZ  \\\n",
       "1                         8.23  ...  125.4468  25.627471  0.459666  -30.8379   \n",
       "2                         5.38  ...  457.1159  39.537695  1.022927 -116.9386   \n",
       "3                         3.31  ...  320.7043  31.901832  0.424862 -111.5363   \n",
       "4                         9.29  ...  290.2483  15.694983  0.788296  -55.8373   \n",
       "5                         5.33  ...  314.7758  15.990401  0.707670  -73.5093   \n",
       "6                         4.86  ...  361.3256  19.562063  0.598923  -72.9051   \n",
       "7                        17.22  ...  355.3515  22.953477  0.595141  -43.1609   \n",
       "8                         3.81  ...  199.0128  18.378910  0.741389  -48.3252   \n",
       "9                        20.65  ...  184.6567  22.306093  0.399799  -62.1250   \n",
       "10                        8.12  ...  420.2697  16.063098  0.551582 -201.3528   \n",
       "11                       22.95  ...  285.2599  16.401745  0.718196 -113.3078   \n",
       "12                        4.94  ...  137.6061   7.880036  0.580427  -31.7879   \n",
       "13                        4.45  ...  363.6996  16.823136  0.799973  -45.6080   \n",
       "14                        4.07  ...  233.2473  12.814517  0.726397  -48.9916   \n",
       "15                        4.35  ...  271.6395  18.404759  0.265203  -41.3102   \n",
       "\n",
       "    maxGyroZ   stdGyroZ  meanspDispersion  minspDispersion  maxspDispersion  \\\n",
       "1    56.1551   6.932179        928.867052       928.867052       928.867052   \n",
       "2   162.3580  10.128204       1166.910451      1166.910451      1166.910451   \n",
       "3    76.3964   7.780564       1344.464577      1344.464577      1344.464577   \n",
       "4   162.0548   7.150270       1185.270433      1185.270433      1185.270433   \n",
       "5   156.8781   5.681897       1475.423329      1475.423329      1475.423329   \n",
       "6   137.1492   5.906137       1120.100442      1120.100442      1120.100442   \n",
       "7    33.4778   3.970143       1050.944813      1050.944813      1050.944813   \n",
       "8    60.1744   5.393321       1133.442544      1133.442544      1133.442544   \n",
       "9    53.1646   8.088887       1142.635550      1142.635550      1142.635550   \n",
       "10  149.4042   6.884040       1413.430225      1413.430225      1413.430225   \n",
       "11   70.2423   6.668147        928.562330       928.562330       928.562330   \n",
       "12   72.6224   4.000972        907.868383       907.868383       907.868383   \n",
       "13   75.9791   4.088656       1056.551466      1056.551466      1056.551466   \n",
       "14   54.3964   4.197690       1498.423505      1498.423505      1498.423505   \n",
       "15   39.4271   3.840442       1013.152012      1013.152012      1013.152012   \n",
       "\n",
       "    stdspDispersion  \n",
       "1      5.698189e-13  \n",
       "2      7.278340e-12  \n",
       "3      3.184287e-12  \n",
       "4      5.913833e-12  \n",
       "5      1.592093e-12  \n",
       "6      9.097333e-12  \n",
       "7      4.553391e-13  \n",
       "8      2.047981e-12  \n",
       "9      2.277287e-12  \n",
       "10     8.415643e-12  \n",
       "11     1.137283e-13  \n",
       "12     2.389114e-12  \n",
       "13     2.274784e-12  \n",
       "14     7.505832e-12  \n",
       "15     1.137744e-12  \n",
       "\n",
       "[15 rows x 39 columns]"
      ]
     },
     "execution_count": 2,
     "metadata": {},
     "output_type": "execute_result"
    }
   ],
   "source": [
    "# transfer matlab struct data to pandas dataframe\n",
    "data = scio.loadmat('research data/newdata.mat',struct_as_record=True)['allVPN']\n",
    "keys = [data.dtype.descr[i][0] for i in range(len(data.dtype.descr))]\n",
    "data_mat2pd = pd.DataFrame(index=range(1,data.shape[1]+1),columns=keys,dtype='double')\n",
    "for i in range(data_mat2pd.shape[0]):\n",
    "    data_mat2pd.iloc[i,0] = data[0][i][0][0]\n",
    "    for j in range(1,data_mat2pd.shape[1]):\n",
    "        data_mat2pd.iloc[i,j] = data[0][i][j][0][0]\n",
    "data_mat2pd['expertise'] = pd.Categorical(data_mat2pd['expertise'])\n",
    "data_mat2pd = data_mat2pd.drop(columns=data_mat2pd.loc[:,data_mat2pd.columns!='expertise'].columns[13],axis=1)\n",
    "data_mat2pd"
   ]
  },
  {
   "cell_type": "code",
   "execution_count": 3,
   "id": "cbb73ab7",
   "metadata": {},
   "outputs": [],
   "source": [
    "# data normalization\n",
    "from sklearn import preprocessing\n",
    "X, y = data_mat2pd.iloc[:,1:].values, data_mat2pd.iloc[:,0].values.codes\n",
    "scaler = preprocessing.StandardScaler().fit(X)\n",
    "X_scaled = scaler.transform(X)"
   ]
  },
  {
   "cell_type": "code",
   "execution_count": 4,
   "id": "855a3a46",
   "metadata": {},
   "outputs": [],
   "source": [
    "# Feature Selection: Anova F-Value with significant level = 0.05\n",
    "from sklearn.feature_selection import SelectKBest, chi2, f_classif\n",
    "idx_f = np.where(f_classif(X,y)[1]<0.05)[0] # p < 0.05, significant\n",
    "skb = SelectKBest(f_classif,k=len(idx_f)).fit(X_scaled, y)\n",
    "X_select_idx = np.where(skb.get_support()==True)[0]\n",
    "X_select_features = data_mat2pd.columns[1:][X_select_idx].tolist()\n",
    "X_select = skb.transform(X_scaled)"
   ]
  },
  {
   "cell_type": "code",
   "execution_count": 5,
   "id": "5776aa9e",
   "metadata": {},
   "outputs": [
    {
     "data": {
      "text/plain": [
       "['Maximum_peak_velocity_of_saccades',\n",
       " 'Minimum_amplitude_of_saccades',\n",
       " 'stdSaccadeDuration']"
      ]
     },
     "execution_count": 5,
     "metadata": {},
     "output_type": "execute_result"
    }
   ],
   "source": [
    "X_select_features # reduce feature number from 38 to 3"
   ]
  },
  {
   "cell_type": "code",
   "execution_count": 6,
   "id": "1e3b4954",
   "metadata": {},
   "outputs": [],
   "source": [
    "## Bootstrap: random leave-one-out split the data and then return back, repeat for n times.\n",
    "def random_loo_split_idx(y,times):\n",
    "    idx_test = []\n",
    "    for expert in np.unique(y):\n",
    "        idx_expert = np.where(y==expert)[0]\n",
    "        idxs = np.random.randint(0,len(idx_expert),size=times)\n",
    "        idx_test.append([idx_expert[i] for i in idxs])\n",
    "    return np.array(idx_test)\n",
    "\n",
    "## Function for training and testing the data\n",
    "def bootstrap_classfication(X,y,times,methods):\n",
    "    idx_test = random_loo_split_idx(y,times)\n",
    "    y_true, y_pred = [], []\n",
    "    for t in range(times):\n",
    "        idx_train = np.delete(np.arange(len(y)).tolist(),idx_test[:,t])\n",
    "        X_train, X_test = X[idx_train], X[idx_test[:,t]]\n",
    "        y_train, y_test = y[idx_train], y[idx_test[:,t]]\n",
    "        # fit\n",
    "        methods.fit(X_train,y_train)        \n",
    "        ## correct count\n",
    "        y_true += y_test.tolist()\n",
    "        y_pred += methods.predict(X_test).tolist()\n",
    "    return confusion_matrix(y_true, y_pred)\n",
    "\n",
    "## Plot the confusion matrix\n",
    "def confusion_display(cf,labels=None):\n",
    "    disp = ConfusionMatrixDisplay(confusion_matrix=cf,display_labels=labels)\n",
    "    fig, ax = plt.subplots(figsize=(6,6))\n",
    "    disp.plot(ax=ax,values_format='')\n",
    "    plt.show()"
   ]
  },
  {
   "cell_type": "markdown",
   "id": "0834e8bb",
   "metadata": {},
   "source": [
    "def bootstrap_classfication(X,y,times,methods):\n",
    "    idx_test = random_loo_split_idx(y,times)\n",
    "    count = np.zeros(len(np.unique(y)))\n",
    "    for t in range(times):\n",
    "        idx_train = np.delete(np.arange(len(y)).tolist(),idx_test[:,t])\n",
    "        X_train, X_test = X[idx_train], X[idx_test[:,t]]\n",
    "        y_train, y_test = y[idx_train], y[idx_test[:,t]]\n",
    "        # fit\n",
    "        methods.fit(X_train,y_train)        \n",
    "        ## correct count\n",
    "        count += (np.unique(y)==clf_rf.predict(X_test))\n",
    "    return count/times, count.sum()/(len(count)*times)\n",
    "## classify methods\n",
    "# KNN\n",
    "knn = KNeighborsClassifier(n_neighbors = 3,weights = \"uniform\",algorithm = \"auto\",leaf_size = 30,p = 1,metric = \"manhattan\")\n",
    "# SVM\n",
    "clf_svm = svm.SVC(decision_function_shape='ovo')\n",
    "# Decision Tree\n",
    "clf_dt = DecisionTreeClassifier()\n",
    "# Random Forest\n",
    "clf_rf = RandomForestClassifier(criterion='gini',max_depth=5,min_samples_leaf = 3,max_leaf_nodes = 4,random_state=0)\n",
    "\n",
    "## test result\n",
    "bootstrap_classfication(X_select,y,100,clf_rf)"
   ]
  },
  {
   "cell_type": "code",
   "execution_count": 7,
   "id": "eeb74a37",
   "metadata": {},
   "outputs": [
    {
     "data": {
      "text/plain": [
       "array([[80, 20,  0],\n",
       "       [18, 81,  1],\n",
       "       [16,  4, 80]], dtype=int64)"
      ]
     },
     "execution_count": 7,
     "metadata": {},
     "output_type": "execute_result"
    }
   ],
   "source": [
    "## classify methods\n",
    "# KNN\n",
    "knn = KNeighborsClassifier(n_neighbors = 3,weights = \"uniform\",algorithm = \"auto\",leaf_size = 30,p = 1,metric = \"manhattan\")\n",
    "# SVM\n",
    "clf_svm = svm.SVC(decision_function_shape='ovo')\n",
    "# Decision Tree\n",
    "clf_dt = DecisionTreeClassifier()\n",
    "# Random Forest\n",
    "clf_rf = RandomForestClassifier(criterion='gini',max_depth=5,min_samples_leaf = 3,max_leaf_nodes = 4,random_state=0)\n",
    "\n",
    "## test result\n",
    "cf_expert = bootstrap_classfication(X_select,y,100,clf_rf)\n",
    "cf_expert"
   ]
  },
  {
   "cell_type": "code",
   "execution_count": 1010,
   "id": "8915c025",
   "metadata": {},
   "outputs": [
    {
     "data": {
      "image/png": "[encoded data removed]",
      "text/plain": [
       "<Figure size 432x432 with 2 Axes>"
      ]
     },
     "metadata": {
      "needs_background": "light"
     },
     "output_type": "display_data"
    }
   ],
   "source": [
    "confusion_display(cf_expert,np.unique(data_mat2pd['expertise']))"
   ]
  },
  {
   "cell_type": "code",
   "execution_count": null,
   "id": "3926cddc",
   "metadata": {},
   "outputs": [],
   "source": []
  },
  {
   "cell_type": "code",
   "execution_count": null,
   "id": "8c442777",
   "metadata": {},
   "outputs": [],
   "source": []
  },
  {
   "cell_type": "code",
   "execution_count": null,
   "id": "0b7bd578",
   "metadata": {},
   "outputs": [],
   "source": []
  },
  {
   "cell_type": "markdown",
   "id": "d205b95b",
   "metadata": {},
   "source": [
    "## 2. Confusion Event"
   ]
  },
  {
   "cell_type": "code",
   "execution_count": 8,
   "id": "6c7fe942",
   "metadata": {},
   "outputs": [],
   "source": [
    "# function\n",
    "# transfer matlab confusion data to pandas dataframe\n",
    "def read_mat2pd(name,keys,path):\n",
    "    data = scio.loadmat('{}/{}.mat'.format(path,name),struct_as_record=True)['{}'.format(name)]\n",
    "    data = pd.DataFrame(data,index=range(1,data.shape[0]+1),dtype='double').drop(columns=0,axis=1)\n",
    "    data.columns = keys\n",
    "    return data\n",
    "\n",
    "def get_binary_data(data):\n",
    "    if type(data) == pd.core.frame.DataFrame:\n",
    "        X, y = data.iloc[:,:-1].values, data_confusion.iloc[:,-1].values\n",
    "    else:\n",
    "        X, y = data[:,-1], data[:,-1]\n",
    "    idx_0, idx_1 = np.where(y==0)[0], np.where(y==1)[0]\n",
    "    prt_0, prt_1 = np.unique(X[idx_0,0].astype(int)), np.unique(X[idx_1,0].astype(int))\n",
    "    dat_0, dat_1 = [data.iloc[np.where(X[:,0]==i)[0],:] for i in prt_0], [data.iloc[np.where(X[:,0]==i)[0],:] for i in prt_1]\n",
    "    return dat_0, dat_1\n",
    "\n",
    "def random_pick(data,n_samples):\n",
    "    idx_rp = np.random.choice(data.shape[0], size=min(n_samples,data.shape[0]), replace=False)\n",
    "    if type(data) == pd.core.frame.DataFrame:\n",
    "        return data.iloc[idx_rp,:-1].values, data.iloc[idx_rp,-1].values\n",
    "    else:\n",
    "        return data[idx_rp,:-1], data[idx_rp,-1]\n",
    "        \n",
    "def set_combine(data1,data2,n_samples):\n",
    "    X_1, y_1 = random_pick(data1,n_samples)\n",
    "    X_2, y_2 = random_pick(data2,n_samples)\n",
    "    X_combine, y_combine = np.r_[X_1,X_2], np.r_[y_1,y_2]\n",
    "    return X_combine, y_combine\n",
    "\n",
    "def normalized_datalist(datalist,col_feature):\n",
    "    for i,d in enumerate(datalist):\n",
    "        unnormalized = d.iloc[:,col_feature].copy()\n",
    "        d.iloc[:,col_feature] = preprocessing.StandardScaler().fit(unnormalized).transform(unnormalized)"
   ]
  },
  {
   "cell_type": "code",
   "execution_count": 441,
   "id": "af72e6d6",
   "metadata": {},
   "outputs": [
    {
     "data": {
      "text/html": [
       "<div>\n",
       "<style scoped>\n",
       "    .dataframe tbody tr th:only-of-type {\n",
       "        vertical-align: middle;\n",
       "    }\n",
       "\n",
       "    .dataframe tbody tr th {\n",
       "        vertical-align: top;\n",
       "    }\n",
       "\n",
       "    .dataframe thead th {\n",
       "        text-align: right;\n",
       "    }\n",
       "</style>\n",
       "<table border=\"1\" class=\"dataframe\">\n",
       "  <thead>\n",
       "    <tr style=\"text-align: right;\">\n",
       "      <th></th>\n",
       "      <th>curVP</th>\n",
       "      <th>currentTime</th>\n",
       "      <th>novice</th>\n",
       "      <th>gazeX</th>\n",
       "      <th>gazeY</th>\n",
       "      <th>pupilPos_combined</th>\n",
       "      <th>pupilDiameter_combined</th>\n",
       "      <th>gyroX</th>\n",
       "      <th>gyroY</th>\n",
       "      <th>gyroZ</th>\n",
       "      <th>accX</th>\n",
       "      <th>accY</th>\n",
       "      <th>accZ</th>\n",
       "      <th>confused</th>\n",
       "    </tr>\n",
       "  </thead>\n",
       "  <tbody>\n",
       "    <tr>\n",
       "      <th>0</th>\n",
       "      <td>1.0</td>\n",
       "      <td>0.005165</td>\n",
       "      <td>0</td>\n",
       "      <td>855.0</td>\n",
       "      <td>363.0</td>\n",
       "      <td>66.936884</td>\n",
       "      <td>4.030</td>\n",
       "      <td>-4.20</td>\n",
       "      <td>0.3125</td>\n",
       "      <td>2.2586</td>\n",
       "      <td>-1.5298</td>\n",
       "      <td>-9.7258</td>\n",
       "      <td>-1.3166</td>\n",
       "      <td>0.0</td>\n",
       "    </tr>\n",
       "    <tr>\n",
       "      <th>1</th>\n",
       "      <td>1.0</td>\n",
       "      <td>0.015154</td>\n",
       "      <td>0</td>\n",
       "      <td>856.0</td>\n",
       "      <td>363.0</td>\n",
       "      <td>66.646658</td>\n",
       "      <td>4.040</td>\n",
       "      <td>-4.27</td>\n",
       "      <td>0.4584</td>\n",
       "      <td>1.4313</td>\n",
       "      <td>-1.5298</td>\n",
       "      <td>-9.7712</td>\n",
       "      <td>-1.2848</td>\n",
       "      <td>0.0</td>\n",
       "    </tr>\n",
       "    <tr>\n",
       "      <th>2</th>\n",
       "      <td>1.0</td>\n",
       "      <td>0.025146</td>\n",
       "      <td>0</td>\n",
       "      <td>856.0</td>\n",
       "      <td>363.0</td>\n",
       "      <td>66.946883</td>\n",
       "      <td>4.030</td>\n",
       "      <td>-4.48</td>\n",
       "      <td>0.3692</td>\n",
       "      <td>1.1313</td>\n",
       "      <td>-1.5298</td>\n",
       "      <td>-9.7712</td>\n",
       "      <td>-1.2848</td>\n",
       "      <td>0.0</td>\n",
       "    </tr>\n",
       "    <tr>\n",
       "      <th>3</th>\n",
       "      <td>1.0</td>\n",
       "      <td>0.035138</td>\n",
       "      <td>0</td>\n",
       "      <td>856.0</td>\n",
       "      <td>364.0</td>\n",
       "      <td>66.656880</td>\n",
       "      <td>4.035</td>\n",
       "      <td>-5.11</td>\n",
       "      <td>0.3813</td>\n",
       "      <td>1.0624</td>\n",
       "      <td>-1.5298</td>\n",
       "      <td>-9.8030</td>\n",
       "      <td>-1.3302</td>\n",
       "      <td>0.0</td>\n",
       "    </tr>\n",
       "    <tr>\n",
       "      <th>4</th>\n",
       "      <td>1.0</td>\n",
       "      <td>0.045135</td>\n",
       "      <td>0</td>\n",
       "      <td>856.0</td>\n",
       "      <td>364.0</td>\n",
       "      <td>66.946883</td>\n",
       "      <td>4.030</td>\n",
       "      <td>-5.60</td>\n",
       "      <td>0.3124</td>\n",
       "      <td>1.0502</td>\n",
       "      <td>-1.5298</td>\n",
       "      <td>-9.7962</td>\n",
       "      <td>-1.3689</td>\n",
       "      <td>0.0</td>\n",
       "    </tr>\n",
       "    <tr>\n",
       "      <th>...</th>\n",
       "      <td>...</td>\n",
       "      <td>...</td>\n",
       "      <td>...</td>\n",
       "      <td>...</td>\n",
       "      <td>...</td>\n",
       "      <td>...</td>\n",
       "      <td>...</td>\n",
       "      <td>...</td>\n",
       "      <td>...</td>\n",
       "      <td>...</td>\n",
       "      <td>...</td>\n",
       "      <td>...</td>\n",
       "      <td>...</td>\n",
       "      <td>...</td>\n",
       "    </tr>\n",
       "    <tr>\n",
       "      <th>6438</th>\n",
       "      <td>15.0</td>\n",
       "      <td>113.540250</td>\n",
       "      <td>0</td>\n",
       "      <td>1038.0</td>\n",
       "      <td>233.0</td>\n",
       "      <td>70.692379</td>\n",
       "      <td>3.070</td>\n",
       "      <td>-0.77</td>\n",
       "      <td>-1.2895</td>\n",
       "      <td>0.0569</td>\n",
       "      <td>0.1961</td>\n",
       "      <td>-9.8688</td>\n",
       "      <td>-0.5054</td>\n",
       "      <td>0.0</td>\n",
       "    </tr>\n",
       "    <tr>\n",
       "      <th>6439</th>\n",
       "      <td>15.0</td>\n",
       "      <td>113.550039</td>\n",
       "      <td>0</td>\n",
       "      <td>1037.0</td>\n",
       "      <td>230.0</td>\n",
       "      <td>70.933039</td>\n",
       "      <td>3.055</td>\n",
       "      <td>-0.42</td>\n",
       "      <td>-0.9205</td>\n",
       "      <td>-0.0201</td>\n",
       "      <td>0.1569</td>\n",
       "      <td>-9.8302</td>\n",
       "      <td>-0.4985</td>\n",
       "      <td>0.0</td>\n",
       "    </tr>\n",
       "    <tr>\n",
       "      <th>6440</th>\n",
       "      <td>15.0</td>\n",
       "      <td>113.559828</td>\n",
       "      <td>0</td>\n",
       "      <td>1036.0</td>\n",
       "      <td>228.0</td>\n",
       "      <td>70.682380</td>\n",
       "      <td>3.075</td>\n",
       "      <td>-0.14</td>\n",
       "      <td>-0.2028</td>\n",
       "      <td>-0.4622</td>\n",
       "      <td>0.0785</td>\n",
       "      <td>-9.7848</td>\n",
       "      <td>-0.5304</td>\n",
       "      <td>0.0</td>\n",
       "    </tr>\n",
       "    <tr>\n",
       "      <th>6441</th>\n",
       "      <td>15.0</td>\n",
       "      <td>113.605432</td>\n",
       "      <td>0</td>\n",
       "      <td>1035.0</td>\n",
       "      <td>229.0</td>\n",
       "      <td>70.922850</td>\n",
       "      <td>3.055</td>\n",
       "      <td>0.00</td>\n",
       "      <td>1.0703</td>\n",
       "      <td>-1.2329</td>\n",
       "      <td>0.1961</td>\n",
       "      <td>-9.9461</td>\n",
       "      <td>-0.5190</td>\n",
       "      <td>0.0</td>\n",
       "    </tr>\n",
       "    <tr>\n",
       "      <th>6442</th>\n",
       "      <td>15.0</td>\n",
       "      <td>113.615430</td>\n",
       "      <td>0</td>\n",
       "      <td>1035.0</td>\n",
       "      <td>223.0</td>\n",
       "      <td>70.662380</td>\n",
       "      <td>3.080</td>\n",
       "      <td>-0.56</td>\n",
       "      <td>0.7217</td>\n",
       "      <td>-0.8679</td>\n",
       "      <td>0.2746</td>\n",
       "      <td>-9.9529</td>\n",
       "      <td>-0.4803</td>\n",
       "      <td>0.0</td>\n",
       "    </tr>\n",
       "  </tbody>\n",
       "</table>\n",
       "<p>381324 rows × 14 columns</p>\n",
       "</div>"
      ],
      "text/plain": [
       "      curVP  currentTime  novice   gazeX  gazeY  pupilPos_combined  \\\n",
       "0       1.0     0.005165       0   855.0  363.0          66.936884   \n",
       "1       1.0     0.015154       0   856.0  363.0          66.646658   \n",
       "2       1.0     0.025146       0   856.0  363.0          66.946883   \n",
       "3       1.0     0.035138       0   856.0  364.0          66.656880   \n",
       "4       1.0     0.045135       0   856.0  364.0          66.946883   \n",
       "...     ...          ...     ...     ...    ...                ...   \n",
       "6438   15.0   113.540250       0  1038.0  233.0          70.692379   \n",
       "6439   15.0   113.550039       0  1037.0  230.0          70.933039   \n",
       "6440   15.0   113.559828       0  1036.0  228.0          70.682380   \n",
       "6441   15.0   113.605432       0  1035.0  229.0          70.922850   \n",
       "6442   15.0   113.615430       0  1035.0  223.0          70.662380   \n",
       "\n",
       "      pupilDiameter_combined  gyroX   gyroY   gyroZ    accX    accY    accZ  \\\n",
       "0                      4.030  -4.20  0.3125  2.2586 -1.5298 -9.7258 -1.3166   \n",
       "1                      4.040  -4.27  0.4584  1.4313 -1.5298 -9.7712 -1.2848   \n",
       "2                      4.030  -4.48  0.3692  1.1313 -1.5298 -9.7712 -1.2848   \n",
       "3                      4.035  -5.11  0.3813  1.0624 -1.5298 -9.8030 -1.3302   \n",
       "4                      4.030  -5.60  0.3124  1.0502 -1.5298 -9.7962 -1.3689   \n",
       "...                      ...    ...     ...     ...     ...     ...     ...   \n",
       "6438                   3.070  -0.77 -1.2895  0.0569  0.1961 -9.8688 -0.5054   \n",
       "6439                   3.055  -0.42 -0.9205 -0.0201  0.1569 -9.8302 -0.4985   \n",
       "6440                   3.075  -0.14 -0.2028 -0.4622  0.0785 -9.7848 -0.5304   \n",
       "6441                   3.055   0.00  1.0703 -1.2329  0.1961 -9.9461 -0.5190   \n",
       "6442                   3.080  -0.56  0.7217 -0.8679  0.2746 -9.9529 -0.4803   \n",
       "\n",
       "      confused  \n",
       "0          0.0  \n",
       "1          0.0  \n",
       "2          0.0  \n",
       "3          0.0  \n",
       "4          0.0  \n",
       "...        ...  \n",
       "6438       0.0  \n",
       "6439       0.0  \n",
       "6440       0.0  \n",
       "6441       0.0  \n",
       "6442       0.0  \n",
       "\n",
       "[381324 rows x 14 columns]"
      ]
     },
     "execution_count": 441,
     "metadata": {},
     "output_type": "execute_result"
    }
   ],
   "source": [
    "# transfer matlab confusion data to pandas dataframe\n",
    "lab_confusion = ['curVP','currentTime','gazeX','gazeY','pupilPos_combined','pupilDiameter_combined','gyroX','gyroY','gyroZ','accX','accY','accZ','confused']\n",
    "#data_confusion = read_mat2pd('VP_sequences',lab_confusion,'research data')\n",
    "data_confusion = pd.read_csv('vp_sequence.csv',index_col=0)\n",
    "# add feature expert\n",
    "idx_r3 = np.where(data_mat2pd['expertise']!='Expert')[0]+1\n",
    "#idx_r3 = np.where(data_mat2pd['expertise']=='r3')[0]+1\n",
    "idx_novice = 0\n",
    "for i in idx_r3:\n",
    "    idx_novice += (data_confusion['curVP']==i).values\n",
    "data_confusion.insert(2,'novice',idx_novice)\n",
    "data_confusion"
   ]
  },
  {
   "cell_type": "code",
   "execution_count": 442,
   "id": "66d1507c",
   "metadata": {},
   "outputs": [
    {
     "data": {
      "text/plain": [
       "([258367, 122957],\n",
       " array([ 1,  2,  3,  4,  5,  6,  7,  8,  9, 10, 11, 12, 13, 14, 15]),\n",
       " array([ 3,  4,  5,  6, 10, 13]))"
      ]
     },
     "execution_count": 442,
     "metadata": {},
     "output_type": "execute_result"
    }
   ],
   "source": [
    "number_of_confused = [(data_confusion.iloc[:,-1]==0).sum(),(data_confusion.iloc[:,-1]==1).sum()]\n",
    "idx_no_event, idx_confusion = np.where(data_confusion.iloc[:,-1]==0)[0], np.where(data_confusion.iloc[:,-1]==1)[0]\n",
    "prt_no_event, prt_confusion = np.unique(data_confusion.iloc[idx_no_event,0].astype(int)), np.unique(data_confusion.iloc[idx_confusion,0].astype(int))\n",
    "number_of_confused, prt_no_event, prt_confusion"
   ]
  },
  {
   "cell_type": "code",
   "execution_count": 443,
   "id": "fad81728",
   "metadata": {},
   "outputs": [
    {
     "data": {
      "text/plain": [
       "(array([ 3,  4,  5,  6, 10, 13]), array([ 1,  2,  7,  8,  9, 11, 12, 14, 15]))"
      ]
     },
     "execution_count": 443,
     "metadata": {},
     "output_type": "execute_result"
    }
   ],
   "source": [
    "prt_overlap, prt_unoverlap = np.intersect1d(prt_no_event, prt_confusion), np.setdiff1d(prt_no_event, prt_confusion)\n",
    "prt_overlap, prt_unoverlap"
   ]
  },
  {
   "cell_type": "code",
   "execution_count": 444,
   "id": "23c964eb",
   "metadata": {},
   "outputs": [
    {
     "data": {
      "text/plain": [
       "(1, 10)"
      ]
     },
     "execution_count": 444,
     "metadata": {},
     "output_type": "execute_result"
    }
   ],
   "source": [
    "f_classif(data_confusion.iloc[:,3:-1],data_confusion.iloc[:,-1])[1].reshape(1,-1).shape"
   ]
  },
  {
   "cell_type": "code",
   "execution_count": 445,
   "id": "2041b832",
   "metadata": {},
   "outputs": [
    {
     "data": {
      "text/html": [
       "<div>\n",
       "<style scoped>\n",
       "    .dataframe tbody tr th:only-of-type {\n",
       "        vertical-align: middle;\n",
       "    }\n",
       "\n",
       "    .dataframe tbody tr th {\n",
       "        vertical-align: top;\n",
       "    }\n",
       "\n",
       "    .dataframe thead th {\n",
       "        text-align: right;\n",
       "    }\n",
       "</style>\n",
       "<table border=\"1\" class=\"dataframe\">\n",
       "  <thead>\n",
       "    <tr style=\"text-align: right;\">\n",
       "      <th></th>\n",
       "      <th>gazeX</th>\n",
       "      <th>gazeY</th>\n",
       "      <th>pupilPos_combined</th>\n",
       "      <th>pupilDiameter_combined</th>\n",
       "      <th>gyroX</th>\n",
       "      <th>gyroY</th>\n",
       "      <th>gyroZ</th>\n",
       "      <th>accX</th>\n",
       "      <th>accY</th>\n",
       "      <th>accZ</th>\n",
       "    </tr>\n",
       "  </thead>\n",
       "  <tbody>\n",
       "    <tr>\n",
       "      <th>0</th>\n",
       "      <td>0.00175</td>\n",
       "      <td>1.259301e-57</td>\n",
       "      <td>0.0</td>\n",
       "      <td>0.0</td>\n",
       "      <td>1.884138e-15</td>\n",
       "      <td>0.0932</td>\n",
       "      <td>0.917728</td>\n",
       "      <td>0.009833</td>\n",
       "      <td>3.800381e-155</td>\n",
       "      <td>3.374965e-238</td>\n",
       "    </tr>\n",
       "  </tbody>\n",
       "</table>\n",
       "</div>"
      ],
      "text/plain": [
       "     gazeX         gazeY  pupilPos_combined  pupilDiameter_combined  \\\n",
       "0  0.00175  1.259301e-57                0.0                     0.0   \n",
       "\n",
       "          gyroX   gyroY     gyroZ      accX           accY           accZ  \n",
       "0  1.884138e-15  0.0932  0.917728  0.009833  3.800381e-155  3.374965e-238  "
      ]
     },
     "execution_count": 445,
     "metadata": {},
     "output_type": "execute_result"
    }
   ],
   "source": [
    "pd.DataFrame(f_classif(data_confusion.iloc[:,3:-1],data_confusion.iloc[:,-1])[1].reshape(1,-1),columns=lab_confusion[2:-1])"
   ]
  },
  {
   "cell_type": "code",
   "execution_count": 333,
   "id": "86d999ba",
   "metadata": {},
   "outputs": [
    {
     "data": {
      "text/html": [
       "<div>\n",
       "<style scoped>\n",
       "    .dataframe tbody tr th:only-of-type {\n",
       "        vertical-align: middle;\n",
       "    }\n",
       "\n",
       "    .dataframe tbody tr th {\n",
       "        vertical-align: top;\n",
       "    }\n",
       "\n",
       "    .dataframe thead th {\n",
       "        text-align: right;\n",
       "    }\n",
       "</style>\n",
       "<table border=\"1\" class=\"dataframe\">\n",
       "  <thead>\n",
       "    <tr style=\"text-align: right;\">\n",
       "      <th></th>\n",
       "      <th>curVP</th>\n",
       "      <th>currentTime</th>\n",
       "      <th>novice</th>\n",
       "      <th>gazeX</th>\n",
       "      <th>gazeY</th>\n",
       "      <th>pupilPos_combined</th>\n",
       "      <th>pupilDiameter_combined</th>\n",
       "      <th>gyroY</th>\n",
       "      <th>gyroZ</th>\n",
       "      <th>accX</th>\n",
       "      <th>accY</th>\n",
       "      <th>accZ</th>\n",
       "      <th>confused</th>\n",
       "    </tr>\n",
       "  </thead>\n",
       "  <tbody>\n",
       "    <tr>\n",
       "      <th>1</th>\n",
       "      <td>1.0</td>\n",
       "      <td>6.465679e+06</td>\n",
       "      <td>0</td>\n",
       "      <td>977.488511</td>\n",
       "      <td>218.123876</td>\n",
       "      <td>66.765152</td>\n",
       "      <td>3.946923</td>\n",
       "      <td>0.918789</td>\n",
       "      <td>-0.466776</td>\n",
       "      <td>-0.583775</td>\n",
       "      <td>-9.816084</td>\n",
       "      <td>-0.032441</td>\n",
       "      <td>0.0</td>\n",
       "    </tr>\n",
       "    <tr>\n",
       "      <th>2</th>\n",
       "      <td>1.0</td>\n",
       "      <td>6.478637e+06</td>\n",
       "      <td>0</td>\n",
       "      <td>977.777223</td>\n",
       "      <td>217.917083</td>\n",
       "      <td>66.765092</td>\n",
       "      <td>3.946918</td>\n",
       "      <td>0.920166</td>\n",
       "      <td>-0.471362</td>\n",
       "      <td>-0.581972</td>\n",
       "      <td>-9.816201</td>\n",
       "      <td>-0.030870</td>\n",
       "      <td>0.0</td>\n",
       "    </tr>\n",
       "    <tr>\n",
       "      <th>3</th>\n",
       "      <td>1.0</td>\n",
       "      <td>6.491594e+06</td>\n",
       "      <td>0</td>\n",
       "      <td>978.087912</td>\n",
       "      <td>217.733267</td>\n",
       "      <td>66.765442</td>\n",
       "      <td>3.947023</td>\n",
       "      <td>0.921126</td>\n",
       "      <td>-0.475596</td>\n",
       "      <td>-0.580209</td>\n",
       "      <td>-9.816313</td>\n",
       "      <td>-0.029338</td>\n",
       "      <td>0.0</td>\n",
       "    </tr>\n",
       "    <tr>\n",
       "      <th>4</th>\n",
       "      <td>1.0</td>\n",
       "      <td>6.504551e+06</td>\n",
       "      <td>0</td>\n",
       "      <td>978.389610</td>\n",
       "      <td>217.536464</td>\n",
       "      <td>66.765372</td>\n",
       "      <td>3.947043</td>\n",
       "      <td>0.922296</td>\n",
       "      <td>-0.480218</td>\n",
       "      <td>-0.578445</td>\n",
       "      <td>-9.816424</td>\n",
       "      <td>-0.027806</td>\n",
       "      <td>0.0</td>\n",
       "    </tr>\n",
       "    <tr>\n",
       "      <th>5</th>\n",
       "      <td>1.0</td>\n",
       "      <td>6.517510e+06</td>\n",
       "      <td>0</td>\n",
       "      <td>978.688312</td>\n",
       "      <td>217.342657</td>\n",
       "      <td>66.765540</td>\n",
       "      <td>3.947058</td>\n",
       "      <td>0.923061</td>\n",
       "      <td>-0.484556</td>\n",
       "      <td>-0.576643</td>\n",
       "      <td>-9.816535</td>\n",
       "      <td>-0.026273</td>\n",
       "      <td>0.0</td>\n",
       "    </tr>\n",
       "    <tr>\n",
       "      <th>...</th>\n",
       "      <td>...</td>\n",
       "      <td>...</td>\n",
       "      <td>...</td>\n",
       "      <td>...</td>\n",
       "      <td>...</td>\n",
       "      <td>...</td>\n",
       "      <td>...</td>\n",
       "      <td>...</td>\n",
       "      <td>...</td>\n",
       "      <td>...</td>\n",
       "      <td>...</td>\n",
       "      <td>...</td>\n",
       "      <td>...</td>\n",
       "    </tr>\n",
       "    <tr>\n",
       "      <th>527860</th>\n",
       "      <td>15.0</td>\n",
       "      <td>1.565685e+08</td>\n",
       "      <td>0</td>\n",
       "      <td>936.789211</td>\n",
       "      <td>240.053946</td>\n",
       "      <td>70.774317</td>\n",
       "      <td>2.935030</td>\n",
       "      <td>-3.812172</td>\n",
       "      <td>0.355947</td>\n",
       "      <td>0.433296</td>\n",
       "      <td>-9.805316</td>\n",
       "      <td>-0.873654</td>\n",
       "      <td>0.0</td>\n",
       "    </tr>\n",
       "    <tr>\n",
       "      <th>527861</th>\n",
       "      <td>15.0</td>\n",
       "      <td>1.565958e+08</td>\n",
       "      <td>0</td>\n",
       "      <td>936.654346</td>\n",
       "      <td>240.182817</td>\n",
       "      <td>70.774471</td>\n",
       "      <td>2.935310</td>\n",
       "      <td>-3.794920</td>\n",
       "      <td>0.346704</td>\n",
       "      <td>0.432629</td>\n",
       "      <td>-9.805069</td>\n",
       "      <td>-0.873253</td>\n",
       "      <td>0.0</td>\n",
       "    </tr>\n",
       "    <tr>\n",
       "      <th>527862</th>\n",
       "      <td>15.0</td>\n",
       "      <td>1.566232e+08</td>\n",
       "      <td>0</td>\n",
       "      <td>936.524476</td>\n",
       "      <td>240.311688</td>\n",
       "      <td>70.774845</td>\n",
       "      <td>2.935569</td>\n",
       "      <td>-3.780719</td>\n",
       "      <td>0.340261</td>\n",
       "      <td>0.432316</td>\n",
       "      <td>-9.804962</td>\n",
       "      <td>-0.872955</td>\n",
       "      <td>0.0</td>\n",
       "    </tr>\n",
       "    <tr>\n",
       "      <th>527863</th>\n",
       "      <td>15.0</td>\n",
       "      <td>1.566505e+08</td>\n",
       "      <td>0</td>\n",
       "      <td>936.401598</td>\n",
       "      <td>240.438561</td>\n",
       "      <td>70.775028</td>\n",
       "      <td>2.935849</td>\n",
       "      <td>-3.769053</td>\n",
       "      <td>0.333300</td>\n",
       "      <td>0.432002</td>\n",
       "      <td>-9.805119</td>\n",
       "      <td>-0.872744</td>\n",
       "      <td>0.0</td>\n",
       "    </tr>\n",
       "    <tr>\n",
       "      <th>527864</th>\n",
       "      <td>15.0</td>\n",
       "      <td>1.566779e+08</td>\n",
       "      <td>0</td>\n",
       "      <td>936.286713</td>\n",
       "      <td>240.541459</td>\n",
       "      <td>70.775372</td>\n",
       "      <td>2.936094</td>\n",
       "      <td>-3.757019</td>\n",
       "      <td>0.326262</td>\n",
       "      <td>0.431689</td>\n",
       "      <td>-9.805230</td>\n",
       "      <td>-0.872565</td>\n",
       "      <td>0.0</td>\n",
       "    </tr>\n",
       "  </tbody>\n",
       "</table>\n",
       "<p>527864 rows × 13 columns</p>\n",
       "</div>"
      ],
      "text/plain": [
       "        curVP   currentTime  novice       gazeX       gazeY  \\\n",
       "1         1.0  6.465679e+06       0  977.488511  218.123876   \n",
       "2         1.0  6.478637e+06       0  977.777223  217.917083   \n",
       "3         1.0  6.491594e+06       0  978.087912  217.733267   \n",
       "4         1.0  6.504551e+06       0  978.389610  217.536464   \n",
       "5         1.0  6.517510e+06       0  978.688312  217.342657   \n",
       "...       ...           ...     ...         ...         ...   \n",
       "527860   15.0  1.565685e+08       0  936.789211  240.053946   \n",
       "527861   15.0  1.565958e+08       0  936.654346  240.182817   \n",
       "527862   15.0  1.566232e+08       0  936.524476  240.311688   \n",
       "527863   15.0  1.566505e+08       0  936.401598  240.438561   \n",
       "527864   15.0  1.566779e+08       0  936.286713  240.541459   \n",
       "\n",
       "        pupilPos_combined  pupilDiameter_combined     gyroY     gyroZ  \\\n",
       "1               66.765152                3.946923  0.918789 -0.466776   \n",
       "2               66.765092                3.946918  0.920166 -0.471362   \n",
       "3               66.765442                3.947023  0.921126 -0.475596   \n",
       "4               66.765372                3.947043  0.922296 -0.480218   \n",
       "5               66.765540                3.947058  0.923061 -0.484556   \n",
       "...                   ...                     ...       ...       ...   \n",
       "527860          70.774317                2.935030 -3.812172  0.355947   \n",
       "527861          70.774471                2.935310 -3.794920  0.346704   \n",
       "527862          70.774845                2.935569 -3.780719  0.340261   \n",
       "527863          70.775028                2.935849 -3.769053  0.333300   \n",
       "527864          70.775372                2.936094 -3.757019  0.326262   \n",
       "\n",
       "            accX      accY      accZ  confused  \n",
       "1      -0.583775 -9.816084 -0.032441       0.0  \n",
       "2      -0.581972 -9.816201 -0.030870       0.0  \n",
       "3      -0.580209 -9.816313 -0.029338       0.0  \n",
       "4      -0.578445 -9.816424 -0.027806       0.0  \n",
       "5      -0.576643 -9.816535 -0.026273       0.0  \n",
       "...          ...       ...       ...       ...  \n",
       "527860  0.433296 -9.805316 -0.873654       0.0  \n",
       "527861  0.432629 -9.805069 -0.873253       0.0  \n",
       "527862  0.432316 -9.804962 -0.872955       0.0  \n",
       "527863  0.432002 -9.805119 -0.872744       0.0  \n",
       "527864  0.431689 -9.805230 -0.872565       0.0  \n",
       "\n",
       "[527864 rows x 13 columns]"
      ]
     },
     "execution_count": 333,
     "metadata": {},
     "output_type": "execute_result"
    }
   ],
   "source": [
    "# Anova F-value\n",
    "idx_fc = np.where(f_classif(data_confusion.iloc[:,2:-1],data_confusion.iloc[:,-1])[1]<0.05)[0] # p < 0.05, significant\n",
    "col_X = data_confusion.iloc[:,2:-1].columns[idx_fc].tolist()\n",
    "#col_feature = col_X + ['confused']\n",
    "col_data = ['curVP','currentTime'] + col_X + ['confused']\n",
    "data_confusion = data_confusion[col_data]\n",
    "data_confusion"
   ]
  },
  {
   "cell_type": "code",
   "execution_count": 334,
   "id": "fe80c067",
   "metadata": {},
   "outputs": [],
   "source": [
    "# datalist for both 0 and 1\n",
    "datalist_0, datalist_1 = get_binary_data(data_confusion)\n",
    "data_0, data_1 = pd.concat(datalist_0,axis=0), pd.concat(datalist_1,axis=0)"
   ]
  },
  {
   "cell_type": "code",
   "execution_count": 335,
   "id": "86e88f6a",
   "metadata": {},
   "outputs": [],
   "source": [
    "def random_choice(data,test_size):\n",
    "    idx_test = np.random.choice(len(data),size=test_size,replace=False)\n",
    "    idx_train = np.delete(np.arange(len(data)),idx_test)\n",
    "    return pd.concat(data[i] for i in idx_train), pd.concat(data[i] for i in idx_test)\n",
    "\n",
    "def idx_cut(cut_length,data):\n",
    "    return np.random.choice(data.shape[0],size=cut_length,replace=False)\n",
    "\n",
    "def equal_concat(data0,data1,cut_length=None):\n",
    "    if cut_length is None:\n",
    "        cut_length = min(data0.shape[0],data1.shape[0])\n",
    "    else:\n",
    "        cut_length = min(data0.shape[0],data1.shape[0],cut_length)\n",
    "    idx_data0, idx_data1 = idx_cut(cut_length,data0), idx_cut(cut_length,data1)\n",
    "    return pd.concat([data0.iloc[idx_data0,:],data1.iloc[idx_data1,:]])"
   ]
  },
  {
   "cell_type": "code",
   "execution_count": 338,
   "id": "c7b30da4",
   "metadata": {},
   "outputs": [],
   "source": [
    "train_0, test_0 = random_choice(datalist_0,3)\n",
    "train_1, test_1 = random_choice(datalist_1,2)\n",
    "data_train, data_test = equal_concat(train_0,train_1), equal_concat(test_0,test_1)\n",
    "X_train1, X_test1 = data_train.iloc[:,3:-1].values, data_test.iloc[:,3:-1].values\n",
    "y_train1, y_test1 = data_train.iloc[:,-1].values, data_test.iloc[:,-1].values\n",
    "scaler = preprocessing.StandardScaler().fit(X_train1)\n",
    "X_train1 = scaler.transform(X_train1)\n",
    "X_test1 = scaler.transform(X_test1)"
   ]
  },
  {
   "cell_type": "code",
   "execution_count": 339,
   "id": "ff6af25e",
   "metadata": {},
   "outputs": [
    {
     "data": {
      "text/plain": [
       "(array([ 7.,  8., 11., 12., 14., 15.]),\n",
       " array([ 4.,  5., 13.]),\n",
       " array([1., 2., 9.]),\n",
       " array([ 6., 10.]))"
      ]
     },
     "execution_count": 339,
     "metadata": {},
     "output_type": "execute_result"
    }
   ],
   "source": [
    "np.unique(train_0['curVP']),np.unique(train_1['curVP']),np.unique(test_0['curVP']),np.unique(test_1['curVP'])"
   ]
  },
  {
   "cell_type": "markdown",
   "id": "4eee2b04",
   "metadata": {},
   "source": [
    "from sklearn.model_selection import train_test_split\n",
    "from sklearn.svm import LinearSVC\n",
    "knn = KNeighborsClassifier()\n",
    "clf_lsvm = svm.LinearSVC()\n",
    "clf_dt = DecisionTreeClassifier()\n",
    "clf_rf = RandomForestClassifier()\n",
    "\n",
    "mod = clf_dt\n",
    "mod.fit(X_train1,y_train1)\n",
    "test_pred = mod.predict(X_test1)\n",
    "(test_pred==y_test1).mean()\n",
    "#mod.score(X_train1,y_train1)"
   ]
  },
  {
   "cell_type": "code",
   "execution_count": 17,
   "id": "59eab437",
   "metadata": {},
   "outputs": [],
   "source": [
    "def pick_samples_train_test(datalist,n_samples1,n_samples2,test_size):\n",
    "    idx_dl_test = np.random.choice(len(datalist),size=test_size,replace=False)\n",
    "    idx_dl_train = np.delete(np.arange(len(datalist)),idx_dl_test)\n",
    "    dl_train, dl_test = [], []\n",
    "    for i in idx_dl_train:\n",
    "        idx_samples = np.random.choice(len(datalist[i]),size=n_samples1,replace=False)\n",
    "        dl_train.append(datalist[i].iloc[idx_samples])\n",
    "    for i in idx_dl_test:\n",
    "        idx_samples = np.random.choice(len(datalist[i]),size=n_samples2,replace=False)\n",
    "        dl_test.append(datalist[i].iloc[idx_samples])\n",
    "    return pd.concat(dl_train), pd.concat(dl_test)"
   ]
  },
  {
   "cell_type": "markdown",
   "id": "38a47a7c",
   "metadata": {},
   "source": [
    "train_00, test_00 = pick_samples_train_test(datalist_0,200,2000,3)\n",
    "train_01, test_01 = pick_samples_train_test(datalist_1,400,3000,2)\n",
    "train_00.shape[0],train_01.shape[0],test_00.shape[0],test_01.shape[0]\n",
    "train_a, test_a = pd.concat([train_00,train_01]), pd.concat([test_00,test_01])\n",
    "X_train1, y_train1 = train_a.iloc[:,3:-1].values, train_a.iloc[:,-1].values\n",
    "X_test1, y_test1 = test_a.iloc[:,3:-1].values, test_a.iloc[:,-1].values\n",
    "scaler = preprocessing.StandardScaler().fit(X_train1)\n",
    "#X_train1 = scaler.transform(X_train1)\n",
    "#X_test1 = scaler.transform(X_test1)\n",
    "X_train1 = np.c_[train_a['novice'].values,scaler.transform(X_train1)]\n",
    "X_test1 = np.c_[test_a['novice'].values,scaler.transform(X_test1)]\n",
    "np.unique(train_00['curVP']),np.unique(train_01['curVP']),np.unique(test_00['curVP']),np.unique(test_01['curVP']),np.unique(train_a['curVP']),np.unique(test_a['curVP'])"
   ]
  },
  {
   "cell_type": "code",
   "execution_count": 19,
   "id": "fbee3f9b",
   "metadata": {},
   "outputs": [],
   "source": [
    "def idx_VPN(prt):\n",
    "    idx_plist = []\n",
    "    for i,p in enumerate(prt):\n",
    "        idx_plist += np.where(data_confusion['curVP']==p)[0].tolist()\n",
    "    return idx_plist"
   ]
  },
  {
   "cell_type": "code",
   "execution_count": 316,
   "id": "2d3437ce",
   "metadata": {},
   "outputs": [
    {
     "data": {
      "text/plain": [
       "([15, 8, 11, 12, 7, 9, 6, 13, 4], [14, 1, 2, 10, 5])"
      ]
     },
     "execution_count": 316,
     "metadata": {},
     "output_type": "execute_result"
    }
   ],
   "source": [
    "# Random split participants to training and testing set\n",
    "from sklearn.model_selection import train_test_split\n",
    "#prt_0, prt_1 = train_test_split(prt_unoverlap,test_size=1/3), train_test_split(prt_overlap,test_size=1/3)\n",
    "prt_0, prt_1 = train_test_split(prt_unoverlap,test_size=1/3), train_test_split(np.delete(prt_overlap,0),test_size=1/3)\n",
    "prt_train, prt_test = [prt_0[i].tolist() + prt_1[i].tolist() for i in range(2)]\n",
    "#prt_train, prt_test = prt_1\n",
    "prt_train, prt_test"
   ]
  },
  {
   "cell_type": "code",
   "execution_count": 317,
   "id": "53e4461d",
   "metadata": {},
   "outputs": [],
   "source": [
    "idx_train, idx_test = idx_VPN(prt_train), idx_VPN(prt_test)\n",
    "data_train, data_test = data_confusion.iloc[idx_train], data_confusion.iloc[idx_test]\n",
    "X_train1, X_test1 = data_train.iloc[:,3:-1].values, data_test.iloc[:,3:-1].values\n",
    "y_train1, y_test1 = data_train.iloc[:,-1].values, data_test.iloc[:,-1].values\n",
    "scaler = preprocessing.StandardScaler().fit(X_train1)\n",
    "X_train1 = scaler.transform(X_train1)\n",
    "X_test1 = scaler.transform(X_test1)\n",
    "#X_train1 = np.c_[data_train['novice'].values,scaler.transform(X_train1)]\n",
    "#X_test1 = np.c_[data_test['novice'].values,scaler.transform(X_test1)]"
   ]
  },
  {
   "cell_type": "code",
   "execution_count": 340,
   "id": "d400af6f",
   "metadata": {},
   "outputs": [
    {
     "name": "stdout",
     "output_type": "stream",
     "text": [
      "[[17462 32396]\n",
      " [28045 21813]]\n"
     ]
    }
   ],
   "source": [
    "from imblearn.ensemble import BalancedBaggingClassifier\n",
    "bbc = BalancedBaggingClassifier(random_state=42)\n",
    "bbc.fit(X_train1, y_train1) \n",
    "y_pred1 = bbc.predict(X_test1)\n",
    "print(confusion_matrix(y_test1, y_pred1))"
   ]
  },
  {
   "cell_type": "code",
   "execution_count": 341,
   "id": "d18e97ea",
   "metadata": {},
   "outputs": [],
   "source": [
    "# SMOTEENN Method\n",
    "from imblearn.combine import SMOTEENN, SMOTETomek\n",
    "sme = SMOTEENN()\n",
    "X_train1, y_train1 = sme.fit_resample(X_train1,y_train1)\n",
    "X_test1, y_test1 = sme.fit_resample(X_test1,y_test1)"
   ]
  },
  {
   "cell_type": "code",
   "execution_count": 342,
   "id": "6b1cde90",
   "metadata": {},
   "outputs": [],
   "source": [
    "scaler = preprocessing.StandardScaler().fit(X_train1)\n",
    "X_train1 = scaler.transform(X_train1)\n",
    "X_test1 = scaler.transform(X_test1)"
   ]
  },
  {
   "cell_type": "code",
   "execution_count": 343,
   "id": "3670a628",
   "metadata": {
    "scrolled": false
   },
   "outputs": [
    {
     "data": {
      "text/plain": [
       "{0: 1.0, 1: 1.0}"
      ]
     },
     "execution_count": 343,
     "metadata": {},
     "output_type": "execute_result"
    }
   ],
   "source": [
    "from sklearn.utils.class_weight import compute_class_weight\n",
    "y_confusion = y_train1\n",
    "y_label = np.unique(y_confusion)\n",
    "cw = compute_class_weight(class_weight='balanced',classes=y_label,y=y_confusion)\n",
    "cw_dict = dict(enumerate(cw))\n",
    "cw_dict"
   ]
  },
  {
   "cell_type": "code",
   "execution_count": 344,
   "id": "33b17649",
   "metadata": {},
   "outputs": [
    {
     "data": {
      "text/plain": [
       "0.32814192306149464"
      ]
     },
     "execution_count": 344,
     "metadata": {},
     "output_type": "execute_result"
    }
   ],
   "source": [
    "from sklearn.linear_model import LogisticRegression\n",
    "mod = LogisticRegression()\n",
    "mod.fit(X_train1,y_train1)\n",
    "test_pred = mod.predict(X_test1)\n",
    "mod.score(X_test1,y_test1) # (test_pred==y_test1).mean()"
   ]
  },
  {
   "cell_type": "code",
   "execution_count": 345,
   "id": "6c5f91c1",
   "metadata": {},
   "outputs": [
    {
     "data": {
      "text/plain": [
       "0.3431244735047535"
      ]
     },
     "execution_count": 345,
     "metadata": {},
     "output_type": "execute_result"
    }
   ],
   "source": [
    "from sklearn.neighbors import KNeighborsClassifier\n",
    "from sklearn.tree import DecisionTreeClassifier\n",
    "from sklearn.ensemble import RandomForestClassifier\n",
    "knn = KNeighborsClassifier()\n",
    "clf_dt = DecisionTreeClassifier()\n",
    "clf_rf = RandomForestClassifier(class_weight=cw_dict)\n",
    "mod = clf_rf\n",
    "mod.fit(X_train1,y_train1)\n",
    "test_pred = mod.predict(X_test1)\n",
    "mod.score(X_test1,y_test1) # (test_pred==y_test1).mean()"
   ]
  },
  {
   "cell_type": "code",
   "execution_count": 346,
   "id": "e80849ad",
   "metadata": {},
   "outputs": [
    {
     "data": {
      "image/png": "[encoded data removed]",
      "text/plain": [
       "<Figure size 432x432 with 2 Axes>"
      ]
     },
     "metadata": {
      "needs_background": "light"
     },
     "output_type": "display_data"
    }
   ],
   "source": [
    "confusion_display(confusion_matrix(y_test1,test_pred))"
   ]
  },
  {
   "cell_type": "code",
   "execution_count": 347,
   "id": "6180929a",
   "metadata": {},
   "outputs": [
    {
     "name": "stdout",
     "output_type": "stream",
     "text": [
      "Model: \"sequential_27\"\n",
      "_________________________________________________________________\n",
      " Layer (type)                Output Shape              Param #   \n",
      "=================================================================\n",
      " dense_158 (Dense)           (None, 64)                640       \n",
      "                                                                 \n",
      " dense_159 (Dense)           (None, 48)                3120      \n",
      "                                                                 \n",
      " dense_160 (Dense)           (None, 32)                1568      \n",
      "                                                                 \n",
      " dense_161 (Dense)           (None, 16)                528       \n",
      "                                                                 \n",
      " dense_162 (Dense)           (None, 1)                 17        \n",
      "                                                                 \n",
      "=================================================================\n",
      "Total params: 5,873\n",
      "Trainable params: 5,873\n",
      "Non-trainable params: 0\n",
      "_________________________________________________________________\n"
     ]
    }
   ],
   "source": [
    "from keras.models import Sequential\n",
    "from keras.layers import Dense\n",
    "model = Sequential()\n",
    "model.add(Dense(units=64, activation='linear', input_dim=X_train1.shape[1]))\n",
    "model.add(Dense(units=48, activation='sigmoid'))\n",
    "model.add(Dense(units=32, activation='linear'))\n",
    "model.add(Dense(units=16, activation='softsign'))\n",
    "#model.add(Dense(units=8, activation='linear'))\n",
    "model.add(Dense(units=1, activation='sigmoid'))\n",
    "model.compile(loss='binary_crossentropy',\n",
    "              optimizer='RMSprop',\n",
    "              metrics=['binary_accuracy'])\n",
    "model.summary()"
   ]
  },
  {
   "cell_type": "code",
   "execution_count": 348,
   "id": "5bcb4aac",
   "metadata": {},
   "outputs": [
    {
     "name": "stdout",
     "output_type": "stream",
     "text": [
      "Epoch 1/5\n",
      "9942/9942 [==============================] - 6s 564us/step - loss: 0.0503 - binary_accuracy: 0.9712\n",
      "Epoch 2/5\n",
      "9942/9942 [==============================] - 6s 567us/step - loss: 7.9367e-04 - binary_accuracy: 0.9998\n",
      "Epoch 3/5\n",
      "9942/9942 [==============================] - 6s 594us/step - loss: 7.3238e-05 - binary_accuracy: 1.0000\n",
      "Epoch 4/5\n",
      "9942/9942 [==============================] - 6s 555us/step - loss: 1.4219e-09 - binary_accuracy: 1.0000\n",
      "Epoch 5/5\n",
      "9942/9942 [==============================] - 6s 594us/step - loss: 1.2596e-09 - binary_accuracy: 1.0000\n"
     ]
    }
   ],
   "source": [
    "model_history = model.fit(X_train1, y_train1, epochs=5, batch_size=30,class_weight=cw_dict)"
   ]
  },
  {
   "cell_type": "code",
   "execution_count": 349,
   "id": "53a1b315",
   "metadata": {},
   "outputs": [
    {
     "name": "stdout",
     "output_type": "stream",
     "text": [
      "9972/9972 [==============================] - 4s 408us/step - loss: 15.2007 - binary_accuracy: 0.3373\n"
     ]
    }
   ],
   "source": [
    "loss_and_metrics = model.evaluate(X_test1, y_test1, batch_size=10)"
   ]
  },
  {
   "cell_type": "code",
   "execution_count": 350,
   "id": "f1c3374f",
   "metadata": {},
   "outputs": [
    {
     "data": {
      "text/plain": [
       "0.33732801155281"
      ]
     },
     "execution_count": 350,
     "metadata": {},
     "output_type": "execute_result"
    }
   ],
   "source": [
    "classes = model.predict(X_test1, batch_size=32)\n",
    "((classes>0.5).flatten()==y_test1).mean()"
   ]
  },
  {
   "cell_type": "code",
   "execution_count": 351,
   "id": "897bc092",
   "metadata": {},
   "outputs": [
    {
     "data": {
      "text/plain": [
       "array([[12607, 37251],\n",
       "       [28828, 21030]], dtype=int64)"
      ]
     },
     "execution_count": 351,
     "metadata": {},
     "output_type": "execute_result"
    }
   ],
   "source": [
    "confusion_matrix(y_test1,model.predict(X_test1)>0.5)"
   ]
  },
  {
   "cell_type": "code",
   "execution_count": null,
   "id": "d45fef1a",
   "metadata": {},
   "outputs": [],
   "source": []
  },
  {
   "cell_type": "code",
   "execution_count": null,
   "id": "8be12f6b",
   "metadata": {},
   "outputs": [],
   "source": []
  },
  {
   "cell_type": "code",
   "execution_count": 736,
   "id": "5636c5f1",
   "metadata": {},
   "outputs": [
    {
     "name": "stderr",
     "output_type": "stream",
     "text": [
      "\r",
      "  0%|                                                                                           | 0/10 [00:00<?, ?it/s]"
     ]
    },
    {
     "name": "stdout",
     "output_type": "stream",
     "text": [
      "Epoch 1/5\n",
      "10622/10622 [==============================] - 7s 584us/step - loss: 0.2944 - binary_accuracy: 0.8699\n",
      "Epoch 2/5\n",
      "10622/10622 [==============================] - 6s 588us/step - loss: 0.2470 - binary_accuracy: 0.8954\n",
      "Epoch 3/5\n",
      "10622/10622 [==============================] - 6s 559us/step - loss: 0.2325 - binary_accuracy: 0.9020\n",
      "Epoch 4/5\n",
      "10622/10622 [==============================] - 6s 563us/step - loss: 0.2256 - binary_accuracy: 0.9051\n",
      "Epoch 5/5\n",
      "10622/10622 [==============================] - 6s 592us/step - loss: 0.2219 - binary_accuracy: 0.9075\n",
      "6270/6270 [==============================] - 3s 422us/step - loss: 1.7021 - binary_accuracy: 0.6015\n"
     ]
    },
    {
     "name": "stderr",
     "output_type": "stream",
     "text": [
      "\r",
      " 10%|████████▎                                                                          | 1/10 [01:15<11:15, 75.06s/it]"
     ]
    },
    {
     "name": "stdout",
     "output_type": "stream",
     "text": [
      "Epoch 1/5\n",
      "8577/8577 [==============================] - 5s 583us/step - loss: 0.2920 - binary_accuracy: 0.8704\n",
      "Epoch 2/5\n",
      "8577/8577 [==============================] - 5s 576us/step - loss: 0.2347 - binary_accuracy: 0.9021\n",
      "Epoch 3/5\n",
      "8577/8577 [==============================] - 5s 581us/step - loss: 0.2171 - binary_accuracy: 0.9098\n",
      "Epoch 4/5\n",
      "8577/8577 [==============================] - 5s 581us/step - loss: 0.2066 - binary_accuracy: 0.9149\n",
      "Epoch 5/5\n",
      "8577/8577 [==============================] - 5s 581us/step - loss: 0.2009 - binary_accuracy: 0.9173\n",
      "12405/12405 [==============================] - 5s 411us/step - loss: 1.9982 - binary_accuracy: 0.7682\n"
     ]
    },
    {
     "name": "stderr",
     "output_type": "stream",
     "text": [
      "\r",
      " 20%|████████████████▌                                                                  | 2/10 [02:19<09:11, 68.98s/it]"
     ]
    },
    {
     "name": "stdout",
     "output_type": "stream",
     "text": [
      "Epoch 1/5\n",
      "9284/9284 [==============================] - 6s 564us/step - loss: 0.3232 - binary_accuracy: 0.8532\n",
      "Epoch 2/5\n",
      "9284/9284 [==============================] - 5s 579us/step - loss: 0.2637 - binary_accuracy: 0.8874\n",
      "Epoch 3/5\n",
      "9284/9284 [==============================] - 5s 587us/step - loss: 0.2474 - binary_accuracy: 0.8957\n",
      "Epoch 4/5\n",
      "9284/9284 [==============================] - 5s 552us/step - loss: 0.2396 - binary_accuracy: 0.8996\n",
      "Epoch 5/5\n",
      "9284/9284 [==============================] - 5s 552us/step - loss: 0.2361 - binary_accuracy: 0.9015\n",
      "10281/10281 [==============================] - 4s 414us/step - loss: 0.8828 - binary_accuracy: 0.7083\n"
     ]
    },
    {
     "name": "stderr",
     "output_type": "stream",
     "text": [
      "\r",
      " 30%|████████████████████████▉                                                          | 3/10 [03:28<08:02, 68.91s/it]"
     ]
    },
    {
     "name": "stdout",
     "output_type": "stream",
     "text": [
      "Epoch 1/5\n",
      "9023/9023 [==============================] - 6s 575us/step - loss: 0.2974 - binary_accuracy: 0.8697\n",
      "Epoch 2/5\n",
      "9023/9023 [==============================] - 5s 598us/step - loss: 0.2329 - binary_accuracy: 0.9014\n",
      "Epoch 3/5\n",
      "9023/9023 [==============================] - 5s 583us/step - loss: 0.2121 - binary_accuracy: 0.9112\n",
      "Epoch 4/5\n",
      "9023/9023 [==============================] - 5s 595us/step - loss: 0.2031 - binary_accuracy: 0.9158\n",
      "Epoch 5/5\n",
      "9023/9023 [==============================] - 5s 591us/step - loss: 0.1975 - binary_accuracy: 0.9178\n",
      "11065/11065 [==============================] - 5s 417us/step - loss: 2.0406 - binary_accuracy: 0.5328\n"
     ]
    },
    {
     "name": "stderr",
     "output_type": "stream",
     "text": [
      "\r",
      " 40%|█████████████████████████████████▏                                                 | 4/10 [04:38<06:55, 69.18s/it]"
     ]
    },
    {
     "name": "stdout",
     "output_type": "stream",
     "text": [
      "Epoch 1/5\n",
      "10377/10377 [==============================] - 7s 591us/step - loss: 0.3171 - binary_accuracy: 0.8587\n",
      "Epoch 2/5\n",
      "10377/10377 [==============================] - 6s 601us/step - loss: 0.2651 - binary_accuracy: 0.8873\n",
      "Epoch 3/5\n",
      "10377/10377 [==============================] - 6s 604us/step - loss: 0.2501 - binary_accuracy: 0.8953\n",
      "Epoch 4/5\n",
      "10377/10377 [==============================] - 6s 623us/step - loss: 0.2418 - binary_accuracy: 0.8993\n",
      "Epoch 5/5\n",
      "10377/10377 [==============================] - 6s 613us/step - loss: 0.2354 - binary_accuracy: 0.9019\n",
      "7002/7002 [==============================] - 3s 422us/step - loss: 1.1344 - binary_accuracy: 0.8064\n"
     ]
    },
    {
     "name": "stderr",
     "output_type": "stream",
     "text": [
      "\r",
      " 50%|█████████████████████████████████████████▌                                         | 5/10 [05:54<05:59, 71.85s/it]"
     ]
    },
    {
     "name": "stdout",
     "output_type": "stream",
     "text": [
      "Epoch 1/5\n",
      "9081/9081 [==============================] - 6s 575us/step - loss: 0.2913 - binary_accuracy: 0.8704\n",
      "Epoch 2/5\n",
      "9081/9081 [==============================] - 5s 586us/step - loss: 0.2347 - binary_accuracy: 0.8994\n",
      "Epoch 3/5\n",
      "9081/9081 [==============================] - 5s 589us/step - loss: 0.2143 - binary_accuracy: 0.9081\n",
      "Epoch 4/5\n",
      "9081/9081 [==============================] - 5s 588us/step - loss: 0.2043 - binary_accuracy: 0.9138\n",
      "Epoch 5/5\n",
      "9081/9081 [==============================] - 6s 611us/step - loss: 0.1978 - binary_accuracy: 0.9172\n",
      "10891/10891 [==============================] - 5s 418us/step - loss: 2.3504 - binary_accuracy: 0.4869\n"
     ]
    },
    {
     "name": "stderr",
     "output_type": "stream",
     "text": [
      "\r",
      " 60%|█████████████████████████████████████████████████▊                                 | 6/10 [07:03<04:42, 70.65s/it]"
     ]
    },
    {
     "name": "stdout",
     "output_type": "stream",
     "text": [
      "Epoch 1/5\n",
      "7508/7508 [==============================] - 5s 589us/step - loss: 0.3099 - binary_accuracy: 0.8593\n",
      "Epoch 2/5\n",
      "7508/7508 [==============================] - 5s 607us/step - loss: 0.2467 - binary_accuracy: 0.8955\n",
      "Epoch 3/5\n",
      "7508/7508 [==============================] - 5s 635us/step - loss: 0.2254 - binary_accuracy: 0.9054\n",
      "Epoch 4/5\n",
      "7508/7508 [==============================] - 4s 572us/step - loss: 0.2135 - binary_accuracy: 0.9108\n",
      "Epoch 5/5\n",
      "7508/7508 [==============================] - 4s 558us/step - loss: 0.2077 - binary_accuracy: 0.9147\n",
      "15612/15612 [==============================] - 7s 442us/step - loss: 1.4380 - binary_accuracy: 0.7388\n"
     ]
    },
    {
     "name": "stderr",
     "output_type": "stream",
     "text": [
      "\r",
      " 70%|██████████████████████████████████████████████████████████                         | 7/10 [08:03<03:22, 67.45s/it]"
     ]
    },
    {
     "name": "stdout",
     "output_type": "stream",
     "text": [
      "Epoch 1/5\n",
      "7801/7801 [==============================] - 5s 560us/step - loss: 0.3061 - binary_accuracy: 0.8609\n",
      "Epoch 2/5\n",
      "7801/7801 [==============================] - 4s 565us/step - loss: 0.2573 - binary_accuracy: 0.8894\n",
      "Epoch 3/5\n",
      "7801/7801 [==============================] - 4s 564us/step - loss: 0.2438 - binary_accuracy: 0.8959\n",
      "Epoch 4/5\n",
      "7801/7801 [==============================] - 5s 582us/step - loss: 0.2353 - binary_accuracy: 0.9007\n",
      "Epoch 5/5\n",
      "7801/7801 [==============================] - 5s 582us/step - loss: 0.2279 - binary_accuracy: 0.9052\n",
      "14730/14730 [==============================] - 6s 425us/step - loss: 1.5460 - binary_accuracy: 0.6816\n"
     ]
    },
    {
     "name": "stderr",
     "output_type": "stream",
     "text": [
      "\r",
      " 80%|██████████████████████████████████████████████████████████████████▍                | 8/10 [09:04<02:10, 65.39s/it]"
     ]
    },
    {
     "name": "stdout",
     "output_type": "stream",
     "text": [
      "Epoch 1/5\n",
      "8199/8199 [==============================] - 5s 603us/step - loss: 0.3020 - binary_accuracy: 0.8655\n",
      "Epoch 2/5\n",
      "8199/8199 [==============================] - 5s 601us/step - loss: 0.2485 - binary_accuracy: 0.8938\n",
      "Epoch 3/5\n",
      "8199/8199 [==============================] - 5s 600us/step - loss: 0.2344 - binary_accuracy: 0.9005\n",
      "Epoch 4/5\n",
      "8199/8199 [==============================] - 5s 604us/step - loss: 0.2268 - binary_accuracy: 0.9047\n",
      "Epoch 5/5\n",
      "8199/8199 [==============================] - 5s 580us/step - loss: 0.2223 - binary_accuracy: 0.9060\n",
      "13537/13537 [==============================] - 5s 392us/step - loss: 1.2030 - binary_accuracy: 0.7123\n"
     ]
    },
    {
     "name": "stderr",
     "output_type": "stream",
     "text": [
      "\r",
      " 90%|██████████████████████████████████████████████████████████████████████████▋        | 9/10 [10:07<01:04, 64.56s/it]"
     ]
    },
    {
     "name": "stdout",
     "output_type": "stream",
     "text": [
      "Epoch 1/5\n",
      "7733/7733 [==============================] - 5s 599us/step - loss: 0.2657 - binary_accuracy: 0.8808\n",
      "Epoch 2/5\n",
      "7733/7733 [==============================] - 4s 556us/step - loss: 0.2076 - binary_accuracy: 0.9110\n",
      "Epoch 3/5\n",
      "7733/7733 [==============================] - 4s 572us/step - loss: 0.1881 - binary_accuracy: 0.9214\n",
      "Epoch 4/5\n",
      "7733/7733 [==============================] - 5s 586us/step - loss: 0.1789 - binary_accuracy: 0.9259\n",
      "Epoch 5/5\n",
      "7733/7733 [==============================] - 4s 573us/step - loss: 0.1725 - binary_accuracy: 0.9291\n",
      "14936/14936 [==============================] - 6s 414us/step - loss: 3.2090 - binary_accuracy: 0.4471\n"
     ]
    },
    {
     "name": "stderr",
     "output_type": "stream",
     "text": [
      "100%|██████████████████████████████████████████████████████████████████████████████████| 10/10 [11:05<00:00, 66.55s/it]\n"
     ]
    }
   ],
   "source": [
    "true, pred_rf, pred_nn, score_rf, score_nn = [], [], [], [], []\n",
    "for i in tqdm(range(10)):\n",
    "    prt_0, prt_1 = train_test_split(prt_unoverlap,test_size=1/3), train_test_split(prt_overlap,test_size=1/3)\n",
    "    prt_train, prt_test = [prt_0[i].tolist() + prt_1[i].tolist() for i in range(2)]\n",
    "    idx_train, idx_test = idx_VPN(prt_train), idx_VPN(prt_test)\n",
    "    data_train, data_test = data_confusion.iloc[idx_train], data_confusion.iloc[idx_test]\n",
    "    X_train1, X_test1 = data_train.iloc[:,3:-1].values, data_test.iloc[:,3:-1].values\n",
    "    y_train1, y_test1 = data_train.iloc[:,-1].values, data_test.iloc[:,-1].values\n",
    "    scaler = preprocessing.StandardScaler().fit(X_train1)\n",
    "    X_train1 = scaler.transform(X_train1)\n",
    "    X_test1 = scaler.transform(X_test1)\n",
    "    \n",
    "    true += y_test1.tolist()\n",
    "    clf_rf = RandomForestClassifier()\n",
    "    mod = clf_rf\n",
    "    mod.fit(X_train1,y_train1)\n",
    "    pred_rf += mod.predict(X_test1).tolist()\n",
    "    score_rf.append(mod.score(X_test1,y_test1))\n",
    "    \n",
    "    model = Sequential()\n",
    "    model.add(Dense(units=128, activation='linear', input_dim=X_train1.shape[1]))\n",
    "    model.add(Dense(units=64, activation='softsign'))\n",
    "    model.add(Dense(units=32, activation='linear'))\n",
    "    model.add(Dense(units=16, activation='softsign'))\n",
    "    model.add(Dense(units=8, activation='linear'))\n",
    "    model.add(Dense(units=1, activation='sigmoid'))\n",
    "    model.compile(loss='binary_crossentropy',\n",
    "                  optimizer='RMSprop',\n",
    "                  metrics=['binary_accuracy'])\n",
    "    model.fit(X_train1, y_train1, epochs=5, batch_size=30)\n",
    "    loss_and_metrics = model.evaluate(X_test1, y_test1, batch_size=10)\n",
    "    pred_nn += (model.predict(X_test1)>0.5).tolist()\n",
    "    score_nn.append(loss_and_metrics[1])\n",
    "    \n",
    "cf_rf, cf_nn = confusion_matrix(true, pred_rf), confusion_matrix(true, pred_nn)"
   ]
  },
  {
   "cell_type": "code",
   "execution_count": 719,
   "id": "19b321f7",
   "metadata": {},
   "outputs": [
    {
     "data": {
      "text/plain": [
       "(0.6637876398142633, 0.6268053834150098)"
      ]
     },
     "execution_count": 719,
     "metadata": {},
     "output_type": "execute_result"
    }
   ],
   "source": [
    "np.diag(cf_rf).sum()/cf_rf.sum(), np.diag(cf_nn).sum()/cf_nn.sum()"
   ]
  },
  {
   "cell_type": "code",
   "execution_count": 738,
   "id": "6ff8731d",
   "metadata": {},
   "outputs": [
    {
     "data": {
      "text/plain": [
       "[<matplotlib.lines.Line2D at 0x1e23a2fdac0>]"
      ]
     },
     "execution_count": 738,
     "metadata": {},
     "output_type": "execute_result"
    },
    {
     "data": {
      "image/png": "[encoded data removed]",
      "text/plain": [
       "<Figure size 432x288 with 1 Axes>"
      ]
     },
     "metadata": {
      "needs_background": "light"
     },
     "output_type": "display_data"
    }
   ],
   "source": [
    "plt.plot(score_rf)\n",
    "plt.plot(score_nn)"
   ]
  },
  {
   "cell_type": "code",
   "execution_count": 883,
   "id": "4d33d6b6",
   "metadata": {},
   "outputs": [
    {
     "data": {
      "text/plain": [
       "array([[744754,  99931],\n",
       "       [314113,   8432]], dtype=int64)"
      ]
     },
     "execution_count": 883,
     "metadata": {},
     "output_type": "execute_result"
    }
   ],
   "source": [
    "cf_nn"
   ]
  },
  {
   "cell_type": "code",
   "execution_count": null,
   "id": "69449018",
   "metadata": {},
   "outputs": [],
   "source": []
  },
  {
   "cell_type": "code",
   "execution_count": null,
   "id": "0523e7d3",
   "metadata": {},
   "outputs": [],
   "source": []
  },
  {
   "cell_type": "code",
   "execution_count": null,
   "id": "3b089e63",
   "metadata": {},
   "outputs": [],
   "source": []
  },
  {
   "cell_type": "markdown",
   "id": "2d23f93c",
   "metadata": {},
   "source": [
    "train_0, train_1 = read_mat2pd('train_0',lab_confusion,'research data'), read_mat2pd('train_1',lab_confusion,'research data')\n",
    "test_0, test_1 = read_mat2pd('test_0',lab_confusion,'research data'), read_mat2pd('test_1',lab_confusion,'research data')\n",
    "data_train, data_test = pd.concat([train_0,train_1],axis=0), pd.concat([test_0,test_1],axis=0)\n",
    "X_ctrain, X_ctest = data_train.iloc[:,1:-1].values, data_test.iloc[:,1:-1].values\n",
    "y_ctrain, y_ctest = data_train.iloc[:,-1].values, data_test.iloc[:,-1].values"
   ]
  },
  {
   "cell_type": "code",
   "execution_count": 400,
   "id": "08a57b23",
   "metadata": {},
   "outputs": [],
   "source": [
    "train_0, train_1 = read_mat2pd('train_0',lab_confusion,'research data'), read_mat2pd('train_1',lab_confusion,'research data')\n",
    "test_0, test_1 = read_mat2pd('test_0',lab_confusion,'research data'), read_mat2pd('test_1',lab_confusion,'research data')\n",
    "data_train, data_test = pd.concat([train_0,train_1],axis=0).drop(columns='gyroX'), pd.concat([test_0,test_1],axis=0).drop(columns='gyroX')\n",
    "idx_novice = np.where(data_mat2pd['expertise']!='Expert')[0]+1\n",
    "idx_novice_train, idx_novice_test = 0, 0\n",
    "for i in idx_novice:\n",
    "    idx_novice_train += (data_train['curVP']==i).values\n",
    "    idx_novice_test += (data_test['curVP']==i).values\n",
    "data_train.insert(2,'novice',idx_novice_train)\n",
    "data_test.insert(2,'novice',idx_novice_test)\n",
    "X_ctrain, X_ctest = data_train.iloc[:,3:-1].values, data_test.iloc[:,3:-1].values\n",
    "y_ctrain, y_ctest = data_train.iloc[:,-1].values, data_test.iloc[:,-1].values\n",
    "scaler = preprocessing.StandardScaler().fit(X_ctrain)\n",
    "X_ctrain = scaler.transform(X_ctrain)\n",
    "X_ctest = scaler.transform(X_ctest)\n",
    "# for dummy variable: Experience not enough\n",
    "#X_ctrain = np.c_[data_train['novice'],scaler.transform(X_ctrain)]\n",
    "#X_ctest = np.c_[data_test['novice'],scaler.transform(X_ctest)]\n",
    "\n",
    "from sklearn.svm import LinearSVC\n",
    "knn = KNeighborsClassifier()\n",
    "clf_lsvm = svm.LinearSVC()\n",
    "clf_dt = DecisionTreeClassifier()\n",
    "clf_rf = RandomForestClassifier()"
   ]
  },
  {
   "cell_type": "code",
   "execution_count": 353,
   "id": "5c6b8b45",
   "metadata": {},
   "outputs": [
    {
     "data": {
      "text/plain": [
       "(139381, 139381, 263590, 263590)"
      ]
     },
     "execution_count": 353,
     "metadata": {},
     "output_type": "execute_result"
    }
   ],
   "source": [
    "train_0.shape[0],train_1.shape[0],test_0.shape[0],test_1.shape[0]"
   ]
  },
  {
   "cell_type": "code",
   "execution_count": 354,
   "id": "933f197b",
   "metadata": {},
   "outputs": [
    {
     "data": {
      "text/plain": [
       "(array([ 1.,  2., 11., 14.]),\n",
       " array([4., 5., 6.]),\n",
       " array([ 1.,  2.,  7., 11., 14., 15.]),\n",
       " array([ 4.,  5.,  6., 10., 13.]))"
      ]
     },
     "execution_count": 354,
     "metadata": {},
     "output_type": "execute_result"
    }
   ],
   "source": [
    "np.unique(train_0['curVP'].values),np.unique(train_1['curVP'].values),np.unique(test_0['curVP'].values),np.unique(test_1['curVP'].values)"
   ]
  },
  {
   "cell_type": "code",
   "execution_count": 355,
   "id": "a7ab13ce",
   "metadata": {},
   "outputs": [
    {
     "data": {
      "text/plain": [
       "0.8345821161652567"
      ]
     },
     "execution_count": 355,
     "metadata": {},
     "output_type": "execute_result"
    }
   ],
   "source": [
    "mod = clf_rf\n",
    "mod.fit(X_ctrain,y_ctrain)\n",
    "#test_pred = mod.predict(X_ctest)\n",
    "mod.score(X_ctest,y_ctest) # (test_pred==y_ctest).mean()"
   ]
  },
  {
   "cell_type": "code",
   "execution_count": 356,
   "id": "284e1650",
   "metadata": {},
   "outputs": [
    {
     "data": {
      "text/plain": [
       "0.8376285139800448"
      ]
     },
     "execution_count": 356,
     "metadata": {},
     "output_type": "execute_result"
    }
   ],
   "source": [
    "mod = clf_dt\n",
    "mod.fit(X_ctrain,y_ctrain)\n",
    "#test_pred = mod.predict(X_ctest)\n",
    "mod.score(X_ctest,y_ctest) # (test_pred==y_ctest).mean()"
   ]
  },
  {
   "cell_type": "code",
   "execution_count": 402,
   "id": "f77cd802",
   "metadata": {},
   "outputs": [
    {
     "name": "stdout",
     "output_type": "stream",
     "text": [
      "Model: \"sequential_35\"\n",
      "_________________________________________________________________\n",
      " Layer (type)                Output Shape              Param #   \n",
      "=================================================================\n",
      " dense_199 (Dense)           (None, 128)               1280      \n",
      "                                                                 \n",
      " dense_200 (Dense)           (None, 64)                8256      \n",
      "                                                                 \n",
      " dense_201 (Dense)           (None, 32)                2080      \n",
      "                                                                 \n",
      " dense_202 (Dense)           (None, 16)                528       \n",
      "                                                                 \n",
      " dense_203 (Dense)           (None, 1)                 17        \n",
      "                                                                 \n",
      "=================================================================\n",
      "Total params: 12,161\n",
      "Trainable params: 12,161\n",
      "Non-trainable params: 0\n",
      "_________________________________________________________________\n"
     ]
    }
   ],
   "source": [
    "from keras.models import Sequential\n",
    "from keras.layers import Dense\n",
    "model = Sequential()\n",
    "model.add(Dense(units=128, activation='linear', input_dim=X_ctrain.shape[1]))\n",
    "model.add(Dense(units=64, activation='exponential'))\n",
    "model.add(Dense(units=32, activation='hard_sigmoid'))\n",
    "model.add(Dense(units=16, activation='softplus'))\n",
    "model.add(Dense(units=1, activation='sigmoid'))\n",
    "model.compile(loss='binary_crossentropy',\n",
    "              optimizer='RMSprop',\n",
    "              metrics=['binary_accuracy'])\n",
    "model.summary()"
   ]
  },
  {
   "cell_type": "code",
   "execution_count": 403,
   "id": "9d7d8bad",
   "metadata": {},
   "outputs": [
    {
     "name": "stdout",
     "output_type": "stream",
     "text": [
      "Epoch 1/5\n",
      "930/930 [==============================] - 1s 1ms/step - loss: 0.0302 - binary_accuracy: 0.9898\n",
      "Epoch 2/5\n",
      "930/930 [==============================] - 1s 1ms/step - loss: 1.3051e-05 - binary_accuracy: 1.0000\n",
      "Epoch 3/5\n",
      "930/930 [==============================] - 1s 1ms/step - loss: 2.8606e-09 - binary_accuracy: 1.0000\n",
      "Epoch 4/5\n",
      "930/930 [==============================] - 1s 1ms/step - loss: 2.1669e-09 - binary_accuracy: 1.0000\n",
      "Epoch 5/5\n",
      "930/930 [==============================] - 1s 1ms/step - loss: 1.9259e-09 - binary_accuracy: 1.0000\n"
     ]
    },
    {
     "data": {
      "text/plain": [
       "<keras.callbacks.History at 0x2330c33eb80>"
      ]
     },
     "execution_count": 403,
     "metadata": {},
     "output_type": "execute_result"
    }
   ],
   "source": [
    "model.fit(X_ctrain,y_ctrain, epochs=5, batch_size=300)"
   ]
  },
  {
   "cell_type": "code",
   "execution_count": 404,
   "id": "e87ca4ee",
   "metadata": {},
   "outputs": [
    {
     "name": "stdout",
     "output_type": "stream",
     "text": [
      "528/528 [==============================] - 1s 826us/step - loss: 3.2940 - binary_accuracy: 0.8514\n"
     ]
    }
   ],
   "source": [
    "loss_and_metrics = model.evaluate(X_ctest, y_ctest, batch_size=1000)"
   ]
  },
  {
   "cell_type": "code",
   "execution_count": 405,
   "id": "e10ba3a3",
   "metadata": {},
   "outputs": [
    {
     "data": {
      "text/plain": [
       "0.8514454266095072"
      ]
     },
     "execution_count": 405,
     "metadata": {},
     "output_type": "execute_result"
    }
   ],
   "source": [
    "classes_pred = model.predict(X_ctest, batch_size=1000)>0.5\n",
    "(classes_pred.flatten()==y_ctest).mean()"
   ]
  },
  {
   "cell_type": "code",
   "execution_count": 406,
   "id": "e61e333a",
   "metadata": {},
   "outputs": [],
   "source": [
    "cf_nn1 = confusion_matrix(y_ctest,classes_pred)"
   ]
  },
  {
   "cell_type": "code",
   "execution_count": 407,
   "id": "31631a4b",
   "metadata": {},
   "outputs": [
    {
     "data": {
      "image/png": "[encoded data removed]",
      "text/plain": [
       "<Figure size 432x432 with 2 Axes>"
      ]
     },
     "metadata": {
      "needs_background": "light"
     },
     "output_type": "display_data"
    }
   ],
   "source": [
    "confusion_display(cf_nn1)"
   ]
  },
  {
   "cell_type": "code",
   "execution_count": 370,
   "id": "5ebd70f9",
   "metadata": {},
   "outputs": [
    {
     "data": {
      "text/plain": [
       "(0.8537823893167419, array([0.94222467, 0.76534011]))"
      ]
     },
     "execution_count": 370,
     "metadata": {},
     "output_type": "execute_result"
    }
   ],
   "source": [
    "np.diag(cf_nn1).sum()/cf_nn1.sum(), np.diag(cf_nn1)/cf_nn1.sum(1)"
   ]
  },
  {
   "cell_type": "code",
   "execution_count": 371,
   "id": "253565a8",
   "metadata": {},
   "outputs": [
    {
     "data": {
      "text/plain": [
       "(278762, 9)"
      ]
     },
     "execution_count": 371,
     "metadata": {},
     "output_type": "execute_result"
    }
   ],
   "source": [
    "from sklearn.svm import LinearSVC\n",
    "knn = KNeighborsClassifier()\n",
    "clf_lsvm = svm.LinearSVC()\n",
    "clf_dt = DecisionTreeClassifier()\n",
    "clf_rf = RandomForestClassifier()\n",
    "X_ctrain.shape"
   ]
  },
  {
   "cell_type": "code",
   "execution_count": 372,
   "id": "18e9bccb",
   "metadata": {},
   "outputs": [
    {
     "name": "stdout",
     "output_type": "stream",
     "text": [
      "Model: \"sequential_29\"\n",
      "_________________________________________________________________\n",
      " Layer (type)                Output Shape              Param #   \n",
      "=================================================================\n",
      " dense_168 (Dense)           (None, 128)               1280      \n",
      "                                                                 \n",
      " dense_169 (Dense)           (None, 64)                8256      \n",
      "                                                                 \n",
      " dense_170 (Dense)           (None, 32)                2080      \n",
      "                                                                 \n",
      " dense_171 (Dense)           (None, 16)                528       \n",
      "                                                                 \n",
      " dense_172 (Dense)           (None, 8)                 136       \n",
      "                                                                 \n",
      " dense_173 (Dense)           (None, 1)                 9         \n",
      "                                                                 \n",
      "=================================================================\n",
      "Total params: 12,289\n",
      "Trainable params: 12,289\n",
      "Non-trainable params: 0\n",
      "_________________________________________________________________\n"
     ]
    }
   ],
   "source": [
    "from keras.models import Sequential\n",
    "from keras.layers import Dense\n",
    "model = Sequential()\n",
    "model.add(Dense(units=128, activation='linear', input_dim=X_ctrain.shape[1]))\n",
    "model.add(Dense(units=64, activation='softsign'))\n",
    "model.add(Dense(units=32, activation='linear'))\n",
    "model.add(Dense(units=16, activation='softsign'))\n",
    "model.add(Dense(units=8, activation='linear'))\n",
    "model.add(Dense(units=1, activation='sigmoid'))\n",
    "model.compile(loss='binary_crossentropy',\n",
    "              optimizer='RMSprop',\n",
    "              metrics=['binary_accuracy'])\n",
    "model.summary()"
   ]
  },
  {
   "cell_type": "code",
   "execution_count": 373,
   "id": "3d940157",
   "metadata": {},
   "outputs": [
    {
     "name": "stdout",
     "output_type": "stream",
     "text": [
      "Epoch 1/5\n",
      "930/930 [==============================] - 1s 1ms/step - loss: 0.0321 - binary_accuracy: 0.9884\n",
      "Epoch 2/5\n",
      "930/930 [==============================] - 1s 1ms/step - loss: 1.3093e-04 - binary_accuracy: 1.0000\n",
      "Epoch 3/5\n",
      "930/930 [==============================] - 1s 1ms/step - loss: 3.8920e-09 - binary_accuracy: 1.0000\n",
      "Epoch 4/5\n",
      "930/930 [==============================] - 1s 1ms/step - loss: 1.3228e-09 - binary_accuracy: 1.0000\n",
      "Epoch 5/5\n",
      "930/930 [==============================] - 1s 1ms/step - loss: 9.0132e-10 - binary_accuracy: 1.0000\n"
     ]
    },
    {
     "data": {
      "text/plain": [
       "<keras.callbacks.History at 0x23303dace20>"
      ]
     },
     "execution_count": 373,
     "metadata": {},
     "output_type": "execute_result"
    }
   ],
   "source": [
    "model.fit(X_ctrain,y_ctrain, epochs=5, batch_size=300)"
   ]
  },
  {
   "cell_type": "code",
   "execution_count": 374,
   "id": "b51d0c59",
   "metadata": {},
   "outputs": [
    {
     "name": "stdout",
     "output_type": "stream",
     "text": [
      "5272/5272 [==============================] - 3s 499us/step - loss: 4.2698 - binary_accuracy: 0.8202\n"
     ]
    }
   ],
   "source": [
    "loss_and_metrics = model.evaluate(X_ctest, y_ctest, batch_size=100)"
   ]
  },
  {
   "cell_type": "code",
   "execution_count": 375,
   "id": "847a1aea",
   "metadata": {},
   "outputs": [
    {
     "data": {
      "text/plain": [
       "0.8202454569596722"
      ]
     },
     "execution_count": 375,
     "metadata": {},
     "output_type": "execute_result"
    }
   ],
   "source": [
    "classes_pred = model.predict(X_ctest, batch_size=100)>0.5\n",
    "(classes_pred.flatten()==y_ctest).mean()"
   ]
  },
  {
   "cell_type": "code",
   "execution_count": 376,
   "id": "52b356a3",
   "metadata": {},
   "outputs": [],
   "source": [
    "cf_nn2 = confusion_matrix(y_ctest,classes_pred)"
   ]
  },
  {
   "cell_type": "code",
   "execution_count": 377,
   "id": "af10c632",
   "metadata": {},
   "outputs": [
    {
     "data": {
      "image/png": "[encoded data removed]",
      "text/plain": [
       "<Figure size 432x432 with 2 Axes>"
      ]
     },
     "metadata": {
      "needs_background": "light"
     },
     "output_type": "display_data"
    }
   ],
   "source": [
    "confusion_display(cf_nn2)"
   ]
  },
  {
   "cell_type": "code",
   "execution_count": 1080,
   "id": "d4de6672",
   "metadata": {},
   "outputs": [
    {
     "data": {
      "text/plain": [
       "(0.8176960430972343, array([0.95792329, 0.6774688 ]))"
      ]
     },
     "execution_count": 1080,
     "metadata": {},
     "output_type": "execute_result"
    }
   ],
   "source": [
    "np.diag(cf_nn2).sum()/cf_nn2.sum(), np.diag(cf_nn2)/cf_nn2.sum(1)"
   ]
  },
  {
   "cell_type": "code",
   "execution_count": null,
   "id": "f10756c1",
   "metadata": {},
   "outputs": [],
   "source": []
  }
 ],
 "metadata": {
  "kernelspec": {
   "display_name": "Python 3",
   "language": "python",
   "name": "python3"
  },
  "language_info": {
   "codemirror_mode": {
    "name": "ipython",
    "version": 3
   },
   "file_extension": ".py",
   "mimetype": "text/x-python",
   "name": "python",
   "nbconvert_exporter": "python",
   "pygments_lexer": "ipython3",
   "version": "3.8.8"
  }
 },
 "nbformat": 4,
 "nbformat_minor": 5
}
